{
 "cells": [
  {
   "cell_type": "code",
   "execution_count": 1,
   "id": "2174e2c6-5323-4487-a762-1e45b17ef734",
   "metadata": {},
   "outputs": [],
   "source": [
    "feature_number = 20\n",
    "test_size = 0.9\n",
    "y_feature = 'resale_price'"
   ]
  },
  {
   "cell_type": "code",
   "execution_count": 13,
   "id": "59b92ec8",
   "metadata": {},
   "outputs": [],
   "source": [
    "import pandas as pd\n",
    "import numpy as np\n",
    "import time\n",
    "from sklearn.linear_model import LinearRegression \n",
    "from sklearn.model_selection import train_test_split\n",
    "from sklearn.preprocessing import MinMaxScaler\n",
    "import matplotlib.pyplot as plt"
   ]
  },
  {
   "cell_type": "code",
   "execution_count": 3,
   "id": "e3740ff6-5a87-4b0e-a025-06e4bcb841c7",
   "metadata": {},
   "outputs": [],
   "source": [
    "train_data = pd.read_csv('flatPrices/train.csv').iloc[:-11905]\n",
    "test_data = pd.read_csv('flatPrices/test.csv').iloc[:-11905]\n",
    "X_train = train_data.drop(columns=y_feature)\n",
    "y_train = train_data[y_feature]\n",
    "X_test = test_data.drop(columns=y_feature)\n",
    "y_test = test_data[y_feature]"
   ]
  },
  {
   "cell_type": "code",
   "execution_count": 7,
   "id": "df66d19d-71ea-4d47-938f-44ca29c0a817",
   "metadata": {},
   "outputs": [],
   "source": [
    "columns = ['year','town','flat_type','block','latitude','longitude','area_sqm']\n",
    "\n",
    "scaler = MinMaxScaler()\n",
    "X_train[columns] = scaler.fit_transform(X_train[columns])\n",
    "y_train = scaler.fit_transform(y_train.to_numpy().reshape(-1,1))\n",
    "X_test[columns] = scaler.fit_transform(X_test[columns])\n",
    "y_test = scaler.fit_transform(y_test.to_numpy().reshape(-1,1))"
   ]
  },
  {
   "cell_type": "code",
   "execution_count": 8,
   "id": "9cd04d98-e02e-4dd0-8c13-7a891c93ed0f",
   "metadata": {},
   "outputs": [
    {
     "data": {
      "text/html": [
       "<div>\n",
       "<style scoped>\n",
       "    .dataframe tbody tr th:only-of-type {\n",
       "        vertical-align: middle;\n",
       "    }\n",
       "\n",
       "    .dataframe tbody tr th {\n",
       "        vertical-align: top;\n",
       "    }\n",
       "\n",
       "    .dataframe thead th {\n",
       "        text-align: right;\n",
       "    }\n",
       "</style>\n",
       "<table border=\"1\" class=\"dataframe\">\n",
       "  <thead>\n",
       "    <tr style=\"text-align: right;\">\n",
       "      <th></th>\n",
       "      <th>year</th>\n",
       "      <th>town</th>\n",
       "      <th>flat_type</th>\n",
       "      <th>block</th>\n",
       "      <th>latitude</th>\n",
       "      <th>longitude</th>\n",
       "      <th>area_sqm</th>\n",
       "      <th>resale_price</th>\n",
       "    </tr>\n",
       "  </thead>\n",
       "  <tbody>\n",
       "    <tr>\n",
       "      <th>0</th>\n",
       "      <td>0.233333</td>\n",
       "      <td>0.115385</td>\n",
       "      <td>0.50</td>\n",
       "      <td>0.0316</td>\n",
       "      <td>0.410705</td>\n",
       "      <td>0.164924</td>\n",
       "      <td>0.660550</td>\n",
       "      <td>298000.0</td>\n",
       "    </tr>\n",
       "    <tr>\n",
       "      <th>1</th>\n",
       "      <td>0.566667</td>\n",
       "      <td>0.423077</td>\n",
       "      <td>0.50</td>\n",
       "      <td>0.4564</td>\n",
       "      <td>0.561159</td>\n",
       "      <td>0.732921</td>\n",
       "      <td>0.559633</td>\n",
       "      <td>316000.0</td>\n",
       "    </tr>\n",
       "    <tr>\n",
       "      <th>2</th>\n",
       "      <td>0.400000</td>\n",
       "      <td>0.000000</td>\n",
       "      <td>0.25</td>\n",
       "      <td>0.3740</td>\n",
       "      <td>0.508661</td>\n",
       "      <td>0.566475</td>\n",
       "      <td>0.266055</td>\n",
       "      <td>196000.0</td>\n",
       "    </tr>\n",
       "    <tr>\n",
       "      <th>3</th>\n",
       "      <td>0.266667</td>\n",
       "      <td>0.500000</td>\n",
       "      <td>0.50</td>\n",
       "      <td>0.4504</td>\n",
       "      <td>0.418972</td>\n",
       "      <td>0.083386</td>\n",
       "      <td>0.541284</td>\n",
       "      <td>207000.0</td>\n",
       "    </tr>\n",
       "    <tr>\n",
       "      <th>4</th>\n",
       "      <td>0.600000</td>\n",
       "      <td>0.461538</td>\n",
       "      <td>0.75</td>\n",
       "      <td>0.0216</td>\n",
       "      <td>0.342928</td>\n",
       "      <td>0.121727</td>\n",
       "      <td>0.697248</td>\n",
       "      <td>415000.0</td>\n",
       "    </tr>\n",
       "    <tr>\n",
       "      <th>...</th>\n",
       "      <td>...</td>\n",
       "      <td>...</td>\n",
       "      <td>...</td>\n",
       "      <td>...</td>\n",
       "      <td>...</td>\n",
       "      <td>...</td>\n",
       "      <td>...</td>\n",
       "      <td>...</td>\n",
       "    </tr>\n",
       "    <tr>\n",
       "      <th>96</th>\n",
       "      <td>0.333333</td>\n",
       "      <td>0.961538</td>\n",
       "      <td>1.00</td>\n",
       "      <td>0.8600</td>\n",
       "      <td>0.933071</td>\n",
       "      <td>0.323811</td>\n",
       "      <td>0.990826</td>\n",
       "      <td>392000.0</td>\n",
       "    </tr>\n",
       "    <tr>\n",
       "      <th>97</th>\n",
       "      <td>0.066667</td>\n",
       "      <td>0.346154</td>\n",
       "      <td>0.25</td>\n",
       "      <td>0.3136</td>\n",
       "      <td>0.236742</td>\n",
       "      <td>0.240550</td>\n",
       "      <td>0.211009</td>\n",
       "      <td>89000.0</td>\n",
       "    </tr>\n",
       "    <tr>\n",
       "      <th>98</th>\n",
       "      <td>0.600000</td>\n",
       "      <td>0.730769</td>\n",
       "      <td>0.25</td>\n",
       "      <td>0.0516</td>\n",
       "      <td>0.172628</td>\n",
       "      <td>0.344204</td>\n",
       "      <td>0.192661</td>\n",
       "      <td>297000.0</td>\n",
       "    </tr>\n",
       "    <tr>\n",
       "      <th>99</th>\n",
       "      <td>0.133333</td>\n",
       "      <td>0.038462</td>\n",
       "      <td>0.25</td>\n",
       "      <td>0.5704</td>\n",
       "      <td>0.305951</td>\n",
       "      <td>0.878135</td>\n",
       "      <td>0.211009</td>\n",
       "      <td>111000.0</td>\n",
       "    </tr>\n",
       "    <tr>\n",
       "      <th>100</th>\n",
       "      <td>0.333333</td>\n",
       "      <td>0.076923</td>\n",
       "      <td>0.25</td>\n",
       "      <td>0.1136</td>\n",
       "      <td>0.406530</td>\n",
       "      <td>0.574147</td>\n",
       "      <td>0.183486</td>\n",
       "      <td>210000.0</td>\n",
       "    </tr>\n",
       "  </tbody>\n",
       "</table>\n",
       "<p>101 rows × 8 columns</p>\n",
       "</div>"
      ],
      "text/plain": [
       "         year      town  flat_type   block  latitude  longitude  area_sqm  \\\n",
       "0    0.233333  0.115385       0.50  0.0316  0.410705   0.164924  0.660550   \n",
       "1    0.566667  0.423077       0.50  0.4564  0.561159   0.732921  0.559633   \n",
       "2    0.400000  0.000000       0.25  0.3740  0.508661   0.566475  0.266055   \n",
       "3    0.266667  0.500000       0.50  0.4504  0.418972   0.083386  0.541284   \n",
       "4    0.600000  0.461538       0.75  0.0216  0.342928   0.121727  0.697248   \n",
       "..        ...       ...        ...     ...       ...        ...       ...   \n",
       "96   0.333333  0.961538       1.00  0.8600  0.933071   0.323811  0.990826   \n",
       "97   0.066667  0.346154       0.25  0.3136  0.236742   0.240550  0.211009   \n",
       "98   0.600000  0.730769       0.25  0.0516  0.172628   0.344204  0.192661   \n",
       "99   0.133333  0.038462       0.25  0.5704  0.305951   0.878135  0.211009   \n",
       "100  0.333333  0.076923       0.25  0.1136  0.406530   0.574147  0.183486   \n",
       "\n",
       "     resale_price  \n",
       "0        298000.0  \n",
       "1        316000.0  \n",
       "2        196000.0  \n",
       "3        207000.0  \n",
       "4        415000.0  \n",
       "..            ...  \n",
       "96       392000.0  \n",
       "97        89000.0  \n",
       "98       297000.0  \n",
       "99       111000.0  \n",
       "100      210000.0  \n",
       "\n",
       "[101 rows x 8 columns]"
      ]
     },
     "execution_count": 8,
     "metadata": {},
     "output_type": "execute_result"
    }
   ],
   "source": [
    "train_data"
   ]
  },
  {
   "cell_type": "code",
   "execution_count": 9,
   "id": "7b85b05f-3f66-480b-baec-33bc007532d3",
   "metadata": {},
   "outputs": [],
   "source": [
    "LR = LinearRegression()"
   ]
  },
  {
   "cell_type": "code",
   "execution_count": 10,
   "id": "6de98df0-d73c-449c-bec7-1e54d1812470",
   "metadata": {},
   "outputs": [
    {
     "name": "stdout",
     "output_type": "stream",
     "text": [
      "Time spent to fit: 0.004101991653442383\n",
      "Time spent to predict: 0.0017333030700683594\n",
      "score : 0.2864374345274133 \n",
      "time to score: 0.0014967918395996094\n"
     ]
    }
   ],
   "source": [
    "start_time = time.time()\n",
    "LR.fit(X_train, y_train)\n",
    "elapsed_time = time.time() - start_time\n",
    "print(f'Time spent to fit: {elapsed_time}')\n",
    "\n",
    "start_time = time.time()\n",
    "y_pred = LR.predict(X_test)\n",
    "elapsed_time = time.time() - start_time\n",
    "elapsed_time\n",
    "print(f'Time spent to predict: {elapsed_time}' )\n",
    "\n",
    "start_time = time.time()\n",
    "score = LR.score(X_test, y_test)\n",
    "elapsed_time = time.time() - start_time\n",
    "print(f'score : {score} \\ntime to score: {elapsed_time}' )"
   ]
  },
  {
   "cell_type": "code",
   "execution_count": 14,
   "id": "8a90ce7e-04e6-4d70-a46f-97529375fad3",
   "metadata": {},
   "outputs": [
    {
     "data": {
      "text/plain": [
       "<matplotlib.collections.PathCollection at 0x7f8617732550>"
      ]
     },
     "execution_count": 14,
     "metadata": {},
     "output_type": "execute_result"
    },
    {
     "data": {
      "image/png": "[encoded data removed]",
      "text/plain": [
       "<Figure size 640x480 with 1 Axes>"
      ]
     },
     "metadata": {},
     "output_type": "display_data"
    }
   ],
   "source": [
    "plt.scatter(y_test,y_pred)"
   ]
  },
  {
   "cell_type": "code",
   "execution_count": 11,
   "id": "b98d5ac5",
   "metadata": {},
   "outputs": [
    {
     "name": "stdout",
     "output_type": "stream",
     "text": [
      "MAE: 0.11318222280830152\n",
      "MSE: 0.01887119269798503\n",
      "RMSE: 0.1373724597507995\n"
     ]
    }
   ],
   "source": [
    "from sklearn import metrics\n",
    "\n",
    "print('MAE:', metrics.mean_absolute_error(y_test, y_pred))\n",
    "print('MSE:', metrics.mean_squared_error(y_test, y_pred))\n",
    "print('RMSE:', np.sqrt(metrics.mean_squared_error(y_test, y_pred)))"
   ]
  }
 ],
 "metadata": {
  "kernelspec": {
   "display_name": "Python 3 (ipykernel)",
   "language": "python",
   "name": "python3"
  },
  "language_info": {
   "codemirror_mode": {
    "name": "ipython",
    "version": 3
   },
   "file_extension": ".py",
   "mimetype": "text/x-python",
   "name": "python",
   "nbconvert_exporter": "python",
   "pygments_lexer": "ipython3",
   "version": "3.11.5"
  }
 },
 "nbformat": 4,
 "nbformat_minor": 5
}
