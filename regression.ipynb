{
 "cells": [
  {
   "cell_type": "code",
   "execution_count": 1,
   "id": "0364532e-ed6c-44e1-9c57-ac9673eeb295",
   "metadata": {},
   "outputs": [],
   "source": [
    "import warnings\n",
    "warnings.simplefilter(\"ignore\",category=DeprecationWarning)"
   ]
  },
  {
   "cell_type": "code",
   "execution_count": 2,
   "id": "9a847489-a84c-476b-9f12-570bf822900e",
   "metadata": {},
   "outputs": [],
   "source": [
    "import time\n",
    "import pandas as pd\n",
    "import numpy as np\n",
    "import qiskit\n",
    "import matplotlib.pyplot as plt\n",
    "from qiskit.circuit import QuantumCircuit, ParameterVector\n",
    "from qiskit.circuit.library import RealAmplitudes, ZZFeatureMap\n",
    "from qiskit_algorithms.optimizers import COBYLA, L_BFGS_B\n",
    "from qiskit_machine_learning.algorithms.regressors import NeuralNetworkRegressor, VQR\n",
    "from qiskit_machine_learning.neural_networks import SamplerQNN, EstimatorQNN\n",
    "from qiskit_machine_learning.circuit.library import QNNCircuit"
   ]
  },
  {
   "cell_type": "code",
   "execution_count": 3,
   "id": "1552d5e6-33f8-4e70-92a0-95397efe529a",
   "metadata": {},
   "outputs": [],
   "source": [
    "flat_train = pd.read_csv('flatPrices/train.csv')\n",
    "flat_test = pd.read_csv('flatPrices/test.csv')"
   ]
  },
  {
   "cell_type": "code",
   "execution_count": 4,
   "id": "bd8452b1-5e29-4f1d-87c4-b908f6a140d1",
   "metadata": {},
   "outputs": [
    {
     "name": "stdout",
     "output_type": "stream",
     "text": [
      "<class 'pandas.core.frame.DataFrame'>\n",
      "RangeIndex: 5006 entries, 0 to 5005\n",
      "Data columns (total 8 columns):\n",
      " #   Column        Non-Null Count  Dtype  \n",
      "---  ------        --------------  -----  \n",
      " 0   year          5006 non-null   float64\n",
      " 1   town          5006 non-null   int64  \n",
      " 2   flat_type     5006 non-null   int64  \n",
      " 3   block         5006 non-null   int64  \n",
      " 4   latitude      5006 non-null   float64\n",
      " 5   longitude     5006 non-null   float64\n",
      " 6   area_sqm      5006 non-null   float64\n",
      " 7   resale_price  5006 non-null   float64\n",
      "dtypes: float64(5), int64(3)\n",
      "memory usage: 313.0 KB\n"
     ]
    }
   ],
   "source": [
    "flat_train = flat_train.iloc[:-7000]\n",
    "flat_train.info()"
   ]
  },
  {
   "cell_type": "code",
   "execution_count": 5,
   "id": "827322c8-7a78-4245-9379-ad0534ac1ec7",
   "metadata": {},
   "outputs": [],
   "source": [
    "#train_features = ['year','town','flat_type','block','latitude','longitude','area_sqm']\n",
    "\n",
    "train_data = flat_train.drop(['resale_price'],axis=1)\n",
    "train_labels = flat_train['resale_price']\n",
    "\n",
    "test_data = flat_test.drop(['resale_price'],axis=1)\n",
    "test_labels = flat_test['resale_price']"
   ]
  },
  {
   "cell_type": "code",
   "execution_count": 6,
   "id": "a12b09ab-cb4d-4875-9f97-c4ab799c5c2d",
   "metadata": {},
   "outputs": [
    {
     "data": {
      "text/html": [
       "<div>\n",
       "<style scoped>\n",
       "    .dataframe tbody tr th:only-of-type {\n",
       "        vertical-align: middle;\n",
       "    }\n",
       "\n",
       "    .dataframe tbody tr th {\n",
       "        vertical-align: top;\n",
       "    }\n",
       "\n",
       "    .dataframe thead th {\n",
       "        text-align: right;\n",
       "    }\n",
       "</style>\n",
       "<table border=\"1\" class=\"dataframe\">\n",
       "  <thead>\n",
       "    <tr style=\"text-align: right;\">\n",
       "      <th></th>\n",
       "      <th>year</th>\n",
       "      <th>town</th>\n",
       "      <th>flat_type</th>\n",
       "      <th>block</th>\n",
       "      <th>latitude</th>\n",
       "      <th>longitude</th>\n",
       "      <th>area_sqm</th>\n",
       "    </tr>\n",
       "  </thead>\n",
       "  <tbody>\n",
       "    <tr>\n",
       "      <th>0</th>\n",
       "      <td>0.988619</td>\n",
       "      <td>3</td>\n",
       "      <td>3</td>\n",
       "      <td>80</td>\n",
       "      <td>1.350414</td>\n",
       "      <td>0.997673</td>\n",
       "      <td>0.377850</td>\n",
       "    </tr>\n",
       "    <tr>\n",
       "      <th>1</th>\n",
       "      <td>0.993568</td>\n",
       "      <td>11</td>\n",
       "      <td>3</td>\n",
       "      <td>1142</td>\n",
       "      <td>1.376256</td>\n",
       "      <td>0.999085</td>\n",
       "      <td>0.342020</td>\n",
       "    </tr>\n",
       "    <tr>\n",
       "      <th>2</th>\n",
       "      <td>0.991094</td>\n",
       "      <td>0</td>\n",
       "      <td>2</td>\n",
       "      <td>936</td>\n",
       "      <td>1.367239</td>\n",
       "      <td>0.998671</td>\n",
       "      <td>0.237785</td>\n",
       "    </tr>\n",
       "    <tr>\n",
       "      <th>3</th>\n",
       "      <td>0.989114</td>\n",
       "      <td>13</td>\n",
       "      <td>3</td>\n",
       "      <td>1127</td>\n",
       "      <td>1.351834</td>\n",
       "      <td>0.997470</td>\n",
       "      <td>0.335505</td>\n",
       "    </tr>\n",
       "    <tr>\n",
       "      <th>4</th>\n",
       "      <td>0.994062</td>\n",
       "      <td>12</td>\n",
       "      <td>4</td>\n",
       "      <td>55</td>\n",
       "      <td>1.338773</td>\n",
       "      <td>0.997566</td>\n",
       "      <td>0.390879</td>\n",
       "    </tr>\n",
       "    <tr>\n",
       "      <th>...</th>\n",
       "      <td>...</td>\n",
       "      <td>...</td>\n",
       "      <td>...</td>\n",
       "      <td>...</td>\n",
       "      <td>...</td>\n",
       "      <td>...</td>\n",
       "      <td>...</td>\n",
       "    </tr>\n",
       "    <tr>\n",
       "      <th>5001</th>\n",
       "      <td>0.985651</td>\n",
       "      <td>1</td>\n",
       "      <td>2</td>\n",
       "      <td>838</td>\n",
       "      <td>1.323792</td>\n",
       "      <td>0.999386</td>\n",
       "      <td>0.211726</td>\n",
       "    </tr>\n",
       "    <tr>\n",
       "      <th>5002</th>\n",
       "      <td>0.986640</td>\n",
       "      <td>3</td>\n",
       "      <td>4</td>\n",
       "      <td>504</td>\n",
       "      <td>1.349728</td>\n",
       "      <td>0.997765</td>\n",
       "      <td>0.394137</td>\n",
       "    </tr>\n",
       "    <tr>\n",
       "      <th>5003</th>\n",
       "      <td>0.984661</td>\n",
       "      <td>10</td>\n",
       "      <td>4</td>\n",
       "      <td>1675</td>\n",
       "      <td>1.307858</td>\n",
       "      <td>0.999039</td>\n",
       "      <td>0.446254</td>\n",
       "    </tr>\n",
       "    <tr>\n",
       "      <th>5004</th>\n",
       "      <td>0.991588</td>\n",
       "      <td>3</td>\n",
       "      <td>2</td>\n",
       "      <td>554</td>\n",
       "      <td>1.350585</td>\n",
       "      <td>0.997790</td>\n",
       "      <td>0.218241</td>\n",
       "    </tr>\n",
       "    <tr>\n",
       "      <th>5005</th>\n",
       "      <td>0.990104</td>\n",
       "      <td>5</td>\n",
       "      <td>3</td>\n",
       "      <td>86</td>\n",
       "      <td>1.377024</td>\n",
       "      <td>0.997891</td>\n",
       "      <td>0.273616</td>\n",
       "    </tr>\n",
       "  </tbody>\n",
       "</table>\n",
       "<p>5006 rows × 7 columns</p>\n",
       "</div>"
      ],
      "text/plain": [
       "          year  town  flat_type  block  latitude  longitude  area_sqm\n",
       "0     0.988619     3          3     80  1.350414   0.997673  0.377850\n",
       "1     0.993568    11          3   1142  1.376256   0.999085  0.342020\n",
       "2     0.991094     0          2    936  1.367239   0.998671  0.237785\n",
       "3     0.989114    13          3   1127  1.351834   0.997470  0.335505\n",
       "4     0.994062    12          4     55  1.338773   0.997566  0.390879\n",
       "...        ...   ...        ...    ...       ...        ...       ...\n",
       "5001  0.985651     1          2    838  1.323792   0.999386  0.211726\n",
       "5002  0.986640     3          4    504  1.349728   0.997765  0.394137\n",
       "5003  0.984661    10          4   1675  1.307858   0.999039  0.446254\n",
       "5004  0.991588     3          2    554  1.350585   0.997790  0.218241\n",
       "5005  0.990104     5          3     86  1.377024   0.997891  0.273616\n",
       "\n",
       "[5006 rows x 7 columns]"
      ]
     },
     "execution_count": 6,
     "metadata": {},
     "output_type": "execute_result"
    }
   ],
   "source": [
    "train_data"
   ]
  },
  {
   "cell_type": "code",
   "execution_count": 7,
   "id": "77e6cc62-766a-45d5-b774-64e98eaae684",
   "metadata": {},
   "outputs": [],
   "source": [
    "train_data = train_data.to_numpy()\n",
    "train_labels = train_labels.to_numpy()"
   ]
  },
  {
   "cell_type": "code",
   "execution_count": 8,
   "id": "36e55a90-8bb1-42db-953c-179386d81e43",
   "metadata": {},
   "outputs": [
    {
     "data": {
      "text/plain": [
       "(5006, 7)"
      ]
     },
     "execution_count": 8,
     "metadata": {},
     "output_type": "execute_result"
    }
   ],
   "source": [
    "np.shape(train_data)"
   ]
  },
  {
   "cell_type": "code",
   "execution_count": 9,
   "id": "41dbc4ab-d60d-487b-b7eb-4e1be658d190",
   "metadata": {},
   "outputs": [
    {
     "data": {
      "image/png": "[encoded data removed]",
      "text/plain": [
       "<Figure size 1207.22x618.722 with 1 Axes>"
      ]
     },
     "execution_count": 9,
     "metadata": {},
     "output_type": "execute_result"
    }
   ],
   "source": [
    "qc = QNNCircuit(num_qubits=7) #number of features\n",
    "qc.draw('mpl')"
   ]
  },
  {
   "cell_type": "code",
   "execution_count": 10,
   "id": "39d2aa36-7084-4b6e-a98f-e332d49f52c2",
   "metadata": {},
   "outputs": [],
   "source": [
    "def callback_graph(weights, obj_func_eval):\n",
    "    clear_output(wait=True)\n",
    "    objective_func_vals.append(obj_func_eval)\n",
    "    plt.title(\"Objective function value against iteration\")\n",
    "    plt.xlabel(\"Iteration\")\n",
    "    plt.ylabel(\"Objective function value\")\n",
    "    plt.plot(range(len(objective_func_vals)), objective_func_vals)\n",
    "    plt.show()"
   ]
  },
  {
   "cell_type": "code",
   "execution_count": 11,
   "id": "d56c415f-b866-4b50-9248-05331eb22edb",
   "metadata": {},
   "outputs": [],
   "source": [
    "from qiskit.primitives import Estimator\n",
    "#estimator = Estimator()"
   ]
  },
  {
   "cell_type": "code",
   "execution_count": 12,
   "id": "5afd90e7-9769-47df-8e74-62e554f6c442",
   "metadata": {},
   "outputs": [],
   "source": [
    "#train_data = train_data.reshape(len(train_data),1)\n",
    "#np.shape(train_data)"
   ]
  },
  {
   "cell_type": "code",
   "execution_count": 13,
   "id": "c0e31de5-e814-4b25-9cc4-4eae67438da6",
   "metadata": {},
   "outputs": [],
   "source": [
    "#backend = qiskit.Aer.get_backend('qasm_simulator')"
   ]
  },
  {
   "cell_type": "code",
   "execution_count": 14,
   "id": "7bed5a9f-de07-4946-be17-b03233e309d2",
   "metadata": {},
   "outputs": [],
   "source": [
    "from qiskit_ibm_runtime import Estimator, QiskitRuntimeService\n",
    "\n",
    "service = QiskitRuntimeService(\n",
    "     channel='ibm_quantum',\n",
    "    instance='ibm-q/open/main',\n",
    "    token='84e47768480771b0f65f16b3f25447e5ab6b88d174cccb8271d1d0a3e4fdf3ce875e7f9f2612ad64f6f107644f49d8c6d9cd2619469de103753b4ae7556e703a'\n",
    ")\n",
    "backend = service.backend('ibm_lagos')\n",
    "estimator = Estimator(backend=backend)\n",
    "\n",
    "# Or save your credentials on disk.\n",
    "# QiskitRuntimeService.save_account(channel='ibm_quantum', instance='ibm-q/open/main', token='<IBM Quantum API key>')"
   ]
  },
  {
   "cell_type": "code",
   "execution_count": 15,
   "id": "54e54ced-4bfb-41a7-8415-ce7c3c569ddc",
   "metadata": {},
   "outputs": [],
   "source": [
    "regression_estimator_qnn = EstimatorQNN(circuit=qc,estimator=estimator)\n",
    "regressor = NeuralNetworkRegressor(neural_network=regression_estimator_qnn,\n",
    "                                   loss='squared_error',\n",
    "                                   optimizer=L_BFGS_B(maxiter=1))"
   ]
  },
  {
   "cell_type": "code",
   "execution_count": 16,
   "id": "add4e8cc-cabc-438d-9952-a25fba7f7465",
   "metadata": {},
   "outputs": [],
   "source": [
    "#train_data = train_data.flatten()\n",
    "#train_data = train_data.reshape(len(train_data),1)\n",
    "\n",
    "#train_labels = train_labels.flatten()\n",
    "#train_labels = train_labels.reshape(len(train_data),1)"
   ]
  },
  {
   "cell_type": "code",
   "execution_count": 17,
   "id": "ac2bebe7-1b0e-4e1d-ae0c-a16135fd36d3",
   "metadata": {},
   "outputs": [
    {
     "data": {
      "text/plain": [
       "array([[ 0.9886195 ,  3.        ,  3.        , ...,  1.3504141 ,\n",
       "         0.99767317,  0.37785016],\n",
       "       [ 0.99356754, 11.        ,  3.        , ...,  1.3762561 ,\n",
       "         0.99908505,  0.34201954],\n",
       "       [ 0.99109352,  0.        ,  2.        , ...,  1.367239  ,\n",
       "         0.99867132,  0.23778502],\n",
       "       ...,\n",
       "       [ 0.98466106, 10.        ,  4.        , ...,  1.30785825,\n",
       "         0.99903928,  0.44625407],\n",
       "       [ 0.99158832,  3.        ,  2.        , ...,  1.3505854 ,\n",
       "         0.99778971,  0.21824104],\n",
       "       [ 0.99010391,  5.        ,  3.        , ...,  1.3770244 ,\n",
       "         0.99789067,  0.27361564]])"
      ]
     },
     "execution_count": 17,
     "metadata": {},
     "output_type": "execute_result"
    }
   ],
   "source": [
    "train_data"
   ]
  },
  {
   "cell_type": "code",
   "execution_count": 18,
   "id": "5a1db8b1-3164-4c62-b597-7c2b9c2b7495",
   "metadata": {},
   "outputs": [
    {
     "data": {
      "text/html": [
       "<div>\n",
       "<style scoped>\n",
       "    .dataframe tbody tr th:only-of-type {\n",
       "        vertical-align: middle;\n",
       "    }\n",
       "\n",
       "    .dataframe tbody tr th {\n",
       "        vertical-align: top;\n",
       "    }\n",
       "\n",
       "    .dataframe thead th {\n",
       "        text-align: right;\n",
       "    }\n",
       "</style>\n",
       "<table border=\"1\" class=\"dataframe\">\n",
       "  <thead>\n",
       "    <tr style=\"text-align: right;\">\n",
       "      <th></th>\n",
       "      <th>year</th>\n",
       "      <th>town</th>\n",
       "      <th>flat_type</th>\n",
       "      <th>block</th>\n",
       "      <th>latitude</th>\n",
       "      <th>longitude</th>\n",
       "      <th>area_sqm</th>\n",
       "    </tr>\n",
       "  </thead>\n",
       "  <tbody>\n",
       "    <tr>\n",
       "      <th>0</th>\n",
       "      <td>0.985156</td>\n",
       "      <td>0</td>\n",
       "      <td>2</td>\n",
       "      <td>117</td>\n",
       "      <td>1.371206</td>\n",
       "      <td>0.998604</td>\n",
       "      <td>0.218241</td>\n",
       "    </tr>\n",
       "    <tr>\n",
       "      <th>1</th>\n",
       "      <td>0.998021</td>\n",
       "      <td>26</td>\n",
       "      <td>3</td>\n",
       "      <td>1167</td>\n",
       "      <td>1.422329</td>\n",
       "      <td>0.998631</td>\n",
       "      <td>0.273616</td>\n",
       "    </tr>\n",
       "    <tr>\n",
       "      <th>2</th>\n",
       "      <td>0.993073</td>\n",
       "      <td>21</td>\n",
       "      <td>3</td>\n",
       "      <td>693</td>\n",
       "      <td>1.396191</td>\n",
       "      <td>0.999119</td>\n",
       "      <td>0.293160</td>\n",
       "    </tr>\n",
       "    <tr>\n",
       "      <th>3</th>\n",
       "      <td>0.989609</td>\n",
       "      <td>1</td>\n",
       "      <td>2</td>\n",
       "      <td>142</td>\n",
       "      <td>1.329465</td>\n",
       "      <td>0.999493</td>\n",
       "      <td>0.267101</td>\n",
       "    </tr>\n",
       "    <tr>\n",
       "      <th>4</th>\n",
       "      <td>0.985156</td>\n",
       "      <td>13</td>\n",
       "      <td>5</td>\n",
       "      <td>1075</td>\n",
       "      <td>1.353631</td>\n",
       "      <td>0.997477</td>\n",
       "      <td>0.482085</td>\n",
       "    </tr>\n",
       "    <tr>\n",
       "      <th>...</th>\n",
       "      <td>...</td>\n",
       "      <td>...</td>\n",
       "      <td>...</td>\n",
       "      <td>...</td>\n",
       "      <td>...</td>\n",
       "      <td>...</td>\n",
       "      <td>...</td>\n",
       "    </tr>\n",
       "    <tr>\n",
       "      <th>4991</th>\n",
       "      <td>0.988619</td>\n",
       "      <td>2</td>\n",
       "      <td>5</td>\n",
       "      <td>242</td>\n",
       "      <td>1.348270</td>\n",
       "      <td>0.998707</td>\n",
       "      <td>0.495114</td>\n",
       "    </tr>\n",
       "    <tr>\n",
       "      <th>4992</th>\n",
       "      <td>0.991588</td>\n",
       "      <td>26</td>\n",
       "      <td>2</td>\n",
       "      <td>2300</td>\n",
       "      <td>1.414105</td>\n",
       "      <td>0.998530</td>\n",
       "      <td>0.208469</td>\n",
       "    </tr>\n",
       "    <tr>\n",
       "      <th>4993</th>\n",
       "      <td>0.989114</td>\n",
       "      <td>23</td>\n",
       "      <td>4</td>\n",
       "      <td>95</td>\n",
       "      <td>1.345445</td>\n",
       "      <td>0.999650</td>\n",
       "      <td>0.397394</td>\n",
       "    </tr>\n",
       "    <tr>\n",
       "      <th>4994</th>\n",
       "      <td>0.990599</td>\n",
       "      <td>13</td>\n",
       "      <td>3</td>\n",
       "      <td>2421</td>\n",
       "      <td>1.343745</td>\n",
       "      <td>0.997135</td>\n",
       "      <td>0.342020</td>\n",
       "    </tr>\n",
       "    <tr>\n",
       "      <th>4995</th>\n",
       "      <td>0.998021</td>\n",
       "      <td>23</td>\n",
       "      <td>4</td>\n",
       "      <td>489</td>\n",
       "      <td>1.356367</td>\n",
       "      <td>0.999603</td>\n",
       "      <td>0.394137</td>\n",
       "    </tr>\n",
       "  </tbody>\n",
       "</table>\n",
       "<p>4996 rows × 7 columns</p>\n",
       "</div>"
      ],
      "text/plain": [
       "          year  town  flat_type  block  latitude  longitude  area_sqm\n",
       "0     0.985156     0          2    117  1.371206   0.998604  0.218241\n",
       "1     0.998021    26          3   1167  1.422329   0.998631  0.273616\n",
       "2     0.993073    21          3    693  1.396191   0.999119  0.293160\n",
       "3     0.989609     1          2    142  1.329465   0.999493  0.267101\n",
       "4     0.985156    13          5   1075  1.353631   0.997477  0.482085\n",
       "...        ...   ...        ...    ...       ...        ...       ...\n",
       "4991  0.988619     2          5    242  1.348270   0.998707  0.495114\n",
       "4992  0.991588    26          2   2300  1.414105   0.998530  0.208469\n",
       "4993  0.989114    23          4     95  1.345445   0.999650  0.397394\n",
       "4994  0.990599    13          3   2421  1.343745   0.997135  0.342020\n",
       "4995  0.998021    23          4    489  1.356367   0.999603  0.394137\n",
       "\n",
       "[4996 rows x 7 columns]"
      ]
     },
     "execution_count": 18,
     "metadata": {},
     "output_type": "execute_result"
    }
   ],
   "source": [
    "test_data = test_data.iloc[:-7000]\n",
    "test_data"
   ]
  },
  {
   "cell_type": "code",
   "execution_count": 19,
   "id": "cdf0e99d-1c99-46c9-bd45-2f645ee54658",
   "metadata": {},
   "outputs": [
    {
     "data": {
      "text/plain": [
       "0        37000.0\n",
       "1       285000.0\n",
       "2       260000.0\n",
       "3       194000.0\n",
       "4       180000.0\n",
       "          ...   \n",
       "4991    605000.0\n",
       "4992    128000.0\n",
       "4993    353000.0\n",
       "4994    171000.0\n",
       "4995    575000.0\n",
       "Name: resale_price, Length: 4996, dtype: float64"
      ]
     },
     "execution_count": 19,
     "metadata": {},
     "output_type": "execute_result"
    }
   ],
   "source": [
    "test_labels = test_labels.iloc[:-7000]\n",
    "test_labels"
   ]
  },
  {
   "cell_type": "code",
   "execution_count": null,
   "id": "2421c7a4-f4fc-4be7-8203-acebefc70fb9",
   "metadata": {},
   "outputs": [],
   "source": [
    "objective_func_vals = []\n",
    "\n",
    "start_time = time.time()\n",
    "regressor.fit(train_data,train_labels)\n",
    "elapsed_time = time.time() - start_time"
   ]
  },
  {
   "cell_type": "code",
   "execution_count": null,
   "id": "8916c423-584d-485a-9d8e-25bb1f1aecb5",
   "metadata": {},
   "outputs": [],
   "source": [
    "print(f\"Training time: {round(elapsed_time)} seconds\")"
   ]
  },
  {
   "cell_type": "code",
   "execution_count": null,
   "id": "634e1604-82e1-414f-b53e-a60bee9d67f9",
   "metadata": {},
   "outputs": [],
   "source": [
    "predicted_test_labels = regressor.predict(test_data)\n",
    "plt.scatter(test_labels,predicted_test_labels)"
   ]
  },
  {
   "cell_type": "code",
   "execution_count": null,
   "id": "8be9277f-9fb5-4634-8435-b29b2092b16a",
   "metadata": {},
   "outputs": [],
   "source": [
    "regressor.score(test_data,test_labels)"
   ]
  },
  {
   "cell_type": "markdown",
   "id": "d0d808ca-e430-4132-94e5-4d26029cfc34",
   "metadata": {},
   "source": [
    "### Using VQR"
   ]
  },
  {
   "cell_type": "code",
   "execution_count": null,
   "id": "45d10242-19b5-43dd-97e0-d7b172ad67dc",
   "metadata": {},
   "outputs": [],
   "source": [
    "feature_map = ZZFeatureMap(7,reps=1,insert_barriers='True')\n",
    "ansatz = RealAmplitudes(7,resp=1)"
   ]
  },
  {
   "cell_type": "code",
   "execution_count": null,
   "id": "79856782-6f0e-4110-8d33-2edd7d21c9a2",
   "metadata": {},
   "outputs": [],
   "source": [
    "vqr = VQR(\n",
    "    feature_map=feature_map,\n",
    "    ansatz=ansatz,\n",
    "    optimizer=L_BFGS_B(maxiter=5))"
   ]
  },
  {
   "cell_type": "code",
   "execution_count": null,
   "id": "b7a21720-dcfa-4aef-9cb2-bf712f77e727",
   "metadata": {},
   "outputs": [],
   "source": [
    "vqr.fit(train_data,train_labels)"
   ]
  },
  {
   "cell_type": "code",
   "execution_count": null,
   "id": "5c416e3e-8478-4add-8e7f-f1a2619f672b",
   "metadata": {},
   "outputs": [],
   "source": [
    "vqr.score(train_data,train_labels)"
   ]
  },
  {
   "cell_type": "code",
   "execution_count": null,
   "id": "8ffbade4-5c15-4aaf-a63e-633c1dab0a1c",
   "metadata": {},
   "outputs": [],
   "source": [
    "predicted_vqr_test_labels = vqr.predict(test_data)"
   ]
  },
  {
   "cell_type": "code",
   "execution_count": null,
   "id": "879b99d1-8849-445d-9237-ac59d7533136",
   "metadata": {},
   "outputs": [],
   "source": [
    "plt.plot(test_labels,predicted_vqr_test_labels)"
   ]
  }
 ],
 "metadata": {
  "kernelspec": {
   "display_name": "Python 3 (ipykernel)",
   "language": "python",
   "name": "python3"
  },
  "language_info": {
   "codemirror_mode": {
    "name": "ipython",
    "version": 3
   },
   "file_extension": ".py",
   "mimetype": "text/x-python",
   "name": "python",
   "nbconvert_exporter": "python",
   "pygments_lexer": "ipython3",
   "version": "3.11.5"
  }
 },
 "nbformat": 4,
 "nbformat_minor": 5
}
