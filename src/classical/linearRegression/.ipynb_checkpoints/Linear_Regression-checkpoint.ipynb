{
 "cells": [
  {
   "cell_type": "code",
   "execution_count": null,
   "id": "2174e2c6-5323-4487-a762-1e45b17ef734",
   "metadata": {},
   "outputs": [],
   "source": [
    "import pandas as pd\n",
    "import numpy as np\n",
    "import matplotlib.pyplot as plt\n",
    "import seaborn as sns\n",
    "import matplotlib"
   ]
  },
  {
   "cell_type": "code",
   "execution_count": null,
   "id": "e3740ff6-5a87-4b0e-a025-06e4bcb841c7",
   "metadata": {},
   "outputs": [],
   "source": [
    "trainingData = pd.read_csv('../data/flatPrices/train.csv')\n",
    "testingData = pd.read_csv('../data/flatPrices/test.csv')"
   ]
  },
  {
   "cell_type": "code",
   "execution_count": null,
   "id": "0de102c9-e752-4bd1-b13d-c21b4edb76a9",
   "metadata": {},
   "outputs": [],
   "source": [
    "X_train = trainingData.drop(columns='resale_price')\n",
    "y_train = trainingData(['resale_price'])\n",
    "\n",
    "\n",
    "X_test = testingData.drop(columns='resale_price')\n",
    "y_test = testingData(['resale_price'])"
   ]
  },
  {
   "cell_type": "code",
   "execution_count": null,
   "id": "7b85b05f-3f66-480b-baec-33bc007532d3",
   "metadata": {},
   "outputs": [],
   "source": [
    "from sklearn.linear_model import LinearRegression \n",
    "LR = LinearRegression()\n"
   ]
  },
  {
   "cell_type": "code",
   "execution_count": null,
   "id": "6de98df0-d73c-449c-bec7-1e54d1812470",
   "metadata": {},
   "outputs": [],
   "source": [
    "LR.fit(X_train, y_train)\n"
   ]
  },
  {
   "cell_type": "code",
   "execution_count": null,
   "id": "57c99315-4dfd-44b3-af0c-ad5f0112faa6",
   "metadata": {},
   "outputs": [],
   "source": [
    "y_pred = LR.predict(X_test)"
   ]
  },
  {
   "cell_type": "code",
   "execution_count": null,
   "id": "93224b6d-6da6-4b68-be2c-e9070f41868b",
   "metadata": {},
   "outputs": [],
   "source": []
  }
 ],
 "metadata": {
  "kernelspec": {
   "display_name": "",
   "name": ""
  },
  "language_info": {
   "name": ""
  }
 },
 "nbformat": 4,
 "nbformat_minor": 5
}
