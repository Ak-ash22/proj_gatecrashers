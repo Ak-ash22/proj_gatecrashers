{
 "cells": [
  {
   "cell_type": "code",
   "execution_count": 37,
   "id": "2174e2c6-5323-4487-a762-1e45b17ef734",
   "metadata": {},
   "outputs": [],
   "source": [
    "feature_number = 20\n",
    "test_size = 0.5\n",
    "y_feature = 'resale_price'"
   ]
  },
  {
   "cell_type": "code",
   "execution_count": 38,
   "metadata": {},
   "outputs": [],
   "source": [
    "import pandas as pd\n",
    "import time\n",
    "from sklearn.linear_model import LinearRegression \n",
    "from sklearn.model_selection import train_test_split"
   ]
  },
  {
   "cell_type": "code",
   "execution_count": 39,
   "id": "e3740ff6-5a87-4b0e-a025-06e4bcb841c7",
   "metadata": {},
   "outputs": [],
   "source": [
    "data = pd.read_csv(f'../../data/flat_data/{feature_number}F/flat.csv')\n",
    "X = data.drop(columns=y_feature)\n",
    "y = data[y_feature]"
   ]
  },
  {
   "cell_type": "code",
   "execution_count": 40,
   "id": "7b85b05f-3f66-480b-baec-33bc007532d3",
   "metadata": {},
   "outputs": [],
   "source": [
    "X_train, X_test, y_train, y_test = train_test_split(X, y, test_size=test_size, random_state=101)\n",
    "LR = LinearRegression()"
   ]
  },
  {
   "cell_type": "code",
   "execution_count": 41,
   "id": "6de98df0-d73c-449c-bec7-1e54d1812470",
   "metadata": {},
   "outputs": [
    {
     "data": {
      "text/plain": [
       "0.23298120498657227"
      ]
     },
     "execution_count": 41,
     "metadata": {},
     "output_type": "execute_result"
    }
   ],
   "source": [
    "start_time = time.time()\n",
    "LR.fit(X_train, y_train)\n",
    "elapsed_time = time.time() - start_time\n",
    "\n",
    "elapsed_time"
   ]
  },
  {
   "cell_type": "code",
   "execution_count": 42,
   "id": "57c99315-4dfd-44b3-af0c-ad5f0112faa6",
   "metadata": {},
   "outputs": [
    {
     "data": {
      "text/plain": [
       "0.04904055595397949"
      ]
     },
     "execution_count": 42,
     "metadata": {},
     "output_type": "execute_result"
    }
   ],
   "source": [
    "start_time = time.time()\n",
    "y_pred = LR.predict(X_test)\n",
    "elapsed_time = time.time() - start_time\n",
    "elapsed_time"
   ]
  }
 ],
 "metadata": {
  "kernelspec": {
   "display_name": "Python 3 (ipykernel)",
   "language": "python",
   "name": "python3"
  },
  "language_info": {
   "codemirror_mode": {
    "name": "ipython",
    "version": 3
   },
   "file_extension": ".py",
   "mimetype": "text/x-python",
   "name": "python",
   "nbconvert_exporter": "python",
   "pygments_lexer": "ipython3",
   "version": "3.11.6"
  }
 },
 "nbformat": 4,
 "nbformat_minor": 5
}
