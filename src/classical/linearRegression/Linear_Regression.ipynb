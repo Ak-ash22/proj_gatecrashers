{
 "cells": [
  {
   "cell_type": "code",
   "execution_count": 58,
   "id": "2174e2c6-5323-4487-a762-1e45b17ef734",
   "metadata": {},
   "outputs": [],
   "source": [
    "feature_number = 20\n",
    "test_size = 0.9\n",
    "y_feature = 'resale_price'"
   ]
  },
  {
   "cell_type": "code",
   "execution_count": 59,
   "metadata": {},
   "outputs": [],
   "source": [
    "import pandas as pd\n",
    "import numpy as np\n",
    "import time\n",
    "from sklearn.linear_model import LinearRegression \n",
    "from sklearn.model_selection import train_test_split"
   ]
  },
  {
   "cell_type": "code",
   "execution_count": 60,
   "id": "e3740ff6-5a87-4b0e-a025-06e4bcb841c7",
   "metadata": {},
   "outputs": [],
   "source": [
    "data = pd.read_csv(f'../../data/flat_data/{feature_number}F/data.csv')\n",
    "X = data.drop(columns=y_feature)\n",
    "y = data[y_feature]"
   ]
  },
  {
   "cell_type": "code",
   "execution_count": 61,
   "id": "7b85b05f-3f66-480b-baec-33bc007532d3",
   "metadata": {},
   "outputs": [],
   "source": [
    "X_train, X_test, y_train, y_test = train_test_split(X, y, test_size=test_size, random_state=101)\n",
    "LR = LinearRegression()"
   ]
  },
  {
   "cell_type": "code",
   "execution_count": 62,
   "id": "6de98df0-d73c-449c-bec7-1e54d1812470",
   "metadata": {},
   "outputs": [
    {
     "name": "stdout",
     "output_type": "stream",
     "text": [
      "Time spent to fit: 0.04692578315734863\n"
     ]
    }
   ],
   "source": [
    "start_time = time.time()\n",
    "LR.fit(X_train, y_train)\n",
    "elapsed_time = time.time() - start_time\n",
    "print(f'Time spent to fit: {elapsed_time}' )"
   ]
  },
  {
   "cell_type": "code",
   "execution_count": 63,
   "id": "57c99315-4dfd-44b3-af0c-ad5f0112faa6",
   "metadata": {},
   "outputs": [
    {
     "name": "stdout",
     "output_type": "stream",
     "text": [
      "Time spent to predict: 0.0955665111541748\n"
     ]
    }
   ],
   "source": [
    "start_time = time.time()\n",
    "y_pred = LR.predict(X_test)\n",
    "elapsed_time = time.time() - start_time\n",
    "elapsed_time\n",
    "print(f'Time spent to predict: {elapsed_time}' )"
   ]
  },
  {
   "cell_type": "code",
   "execution_count": 64,
   "metadata": {},
   "outputs": [
    {
     "name": "stdout",
     "output_type": "stream",
     "text": [
      "score : 0.9996839238349784 \n",
      "time to score: 0.12269878387451172\n"
     ]
    }
   ],
   "source": [
    "start_time = time.time()\n",
    "score = LR.score(X_test, y_test)\n",
    "elapsed_time = time.time() - start_time\n",
    "print(f'score : {score} \\ntime to score: {elapsed_time}' )"
   ]
  },
  {
   "cell_type": "code",
   "execution_count": 65,
   "metadata": {},
   "outputs": [
    {
     "name": "stdout",
     "output_type": "stream",
     "text": [
      "MAE: 1609.2523925468631\n",
      "MSE: 7196839.906594061\n",
      "RMSE: 2682.6926597346296\n"
     ]
    }
   ],
   "source": [
    "from sklearn import metrics\n",
    "\n",
    "print('MAE:', metrics.mean_absolute_error(y_test, y_pred))\n",
    "print('MSE:', metrics.mean_squared_error(y_test, y_pred))\n",
    "print('RMSE:', np.sqrt(metrics.mean_squared_error(y_test, y_pred)))"
   ]
  }
 ],
 "metadata": {
  "kernelspec": {
   "display_name": "Python 3 (ipykernel)",
   "language": "python",
   "name": "python3"
  },
  "language_info": {
   "codemirror_mode": {
    "name": "ipython",
    "version": 3
   },
   "file_extension": ".py",
   "mimetype": "text/x-python",
   "name": "python",
   "nbconvert_exporter": "python",
   "pygments_lexer": "ipython3",
   "version": "3.11.6"
  }
 },
 "nbformat": 4,
 "nbformat_minor": 5
}
