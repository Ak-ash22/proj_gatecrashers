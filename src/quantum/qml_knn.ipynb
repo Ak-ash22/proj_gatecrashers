{
 "cells": [
  {
   "cell_type": "code",
   "execution_count": 12,
   "metadata": {},
   "outputs": [],
   "source": [
    "tau = 100\n",
    "C = 1000\n",
    "feature_number = 20\n",
    "test_size = 0.9\n",
    "y_feature = 'Class'"
   ]
  },
  {
   "cell_type": "code",
   "execution_count": 13,
   "metadata": {},
   "outputs": [],
   "source": [
    "import numpy as np\n",
    "import time\n",
    "import pandas as pd\n",
    "from sklearn.model_selection import train_test_split"
   ]
  },
  {
   "cell_type": "code",
   "execution_count": 27,
   "metadata": {},
   "outputs": [
    {
     "data": {
      "text/html": [
       "<div>\n",
       "<style scoped>\n",
       "    .dataframe tbody tr th:only-of-type {\n",
       "        vertical-align: middle;\n",
       "    }\n",
       "\n",
       "    .dataframe tbody tr th {\n",
       "        vertical-align: top;\n",
       "    }\n",
       "\n",
       "    .dataframe thead th {\n",
       "        text-align: right;\n",
       "    }\n",
       "</style>\n",
       "<table border=\"1\" class=\"dataframe\">\n",
       "  <thead>\n",
       "    <tr style=\"text-align: right;\">\n",
       "      <th></th>\n",
       "      <th>V1</th>\n",
       "      <th>V2</th>\n",
       "      <th>V3</th>\n",
       "      <th>V4</th>\n",
       "      <th>V5</th>\n",
       "      <th>V6</th>\n",
       "      <th>V7</th>\n",
       "      <th>V8</th>\n",
       "      <th>V9</th>\n",
       "      <th>V10</th>\n",
       "      <th>...</th>\n",
       "      <th>V12</th>\n",
       "      <th>V13</th>\n",
       "      <th>V14</th>\n",
       "      <th>V15</th>\n",
       "      <th>V16</th>\n",
       "      <th>V17</th>\n",
       "      <th>V18</th>\n",
       "      <th>V19</th>\n",
       "      <th>V20</th>\n",
       "      <th>Class</th>\n",
       "    </tr>\n",
       "  </thead>\n",
       "  <tbody>\n",
       "    <tr>\n",
       "      <th>840</th>\n",
       "      <td>1.134880</td>\n",
       "      <td>-0.214241</td>\n",
       "      <td>0.528744</td>\n",
       "      <td>1.328837</td>\n",
       "      <td>-0.426471</td>\n",
       "      <td>0.269760</td>\n",
       "      <td>-0.294896</td>\n",
       "      <td>0.095271</td>\n",
       "      <td>1.057808</td>\n",
       "      <td>-0.274677</td>\n",
       "      <td>...</td>\n",
       "      <td>0.093055</td>\n",
       "      <td>-0.486427</td>\n",
       "      <td>-0.367803</td>\n",
       "      <td>-0.800325</td>\n",
       "      <td>-0.297493</td>\n",
       "      <td>-0.102663</td>\n",
       "      <td>-0.093876</td>\n",
       "      <td>0.461431</td>\n",
       "      <td>-0.073023</td>\n",
       "      <td>0</td>\n",
       "    </tr>\n",
       "    <tr>\n",
       "      <th>841</th>\n",
       "      <td>-2.226521</td>\n",
       "      <td>1.361693</td>\n",
       "      <td>2.025260</td>\n",
       "      <td>0.823238</td>\n",
       "      <td>0.244459</td>\n",
       "      <td>0.599506</td>\n",
       "      <td>2.650073</td>\n",
       "      <td>-2.446798</td>\n",
       "      <td>2.269755</td>\n",
       "      <td>3.621816</td>\n",
       "      <td>...</td>\n",
       "      <td>-1.139200</td>\n",
       "      <td>-1.477087</td>\n",
       "      <td>-2.146990</td>\n",
       "      <td>0.805907</td>\n",
       "      <td>-2.074258</td>\n",
       "      <td>-0.165043</td>\n",
       "      <td>-1.047570</td>\n",
       "      <td>0.751404</td>\n",
       "      <td>-0.005224</td>\n",
       "      <td>0</td>\n",
       "    </tr>\n",
       "    <tr>\n",
       "      <th>842</th>\n",
       "      <td>-3.055529</td>\n",
       "      <td>-0.557340</td>\n",
       "      <td>2.144689</td>\n",
       "      <td>3.289656</td>\n",
       "      <td>0.273454</td>\n",
       "      <td>1.473169</td>\n",
       "      <td>-0.423035</td>\n",
       "      <td>0.765013</td>\n",
       "      <td>-0.421320</td>\n",
       "      <td>1.196380</td>\n",
       "      <td>...</td>\n",
       "      <td>0.913012</td>\n",
       "      <td>0.274182</td>\n",
       "      <td>-0.461024</td>\n",
       "      <td>-0.125364</td>\n",
       "      <td>-0.670081</td>\n",
       "      <td>0.726382</td>\n",
       "      <td>-0.530679</td>\n",
       "      <td>0.917471</td>\n",
       "      <td>-0.325894</td>\n",
       "      <td>0</td>\n",
       "    </tr>\n",
       "    <tr>\n",
       "      <th>843</th>\n",
       "      <td>-2.829522</td>\n",
       "      <td>-3.027379</td>\n",
       "      <td>1.260681</td>\n",
       "      <td>-0.467058</td>\n",
       "      <td>0.192918</td>\n",
       "      <td>-1.291539</td>\n",
       "      <td>1.646201</td>\n",
       "      <td>-0.475091</td>\n",
       "      <td>-1.909817</td>\n",
       "      <td>-0.218002</td>\n",
       "      <td>...</td>\n",
       "      <td>0.151756</td>\n",
       "      <td>1.412842</td>\n",
       "      <td>-0.164931</td>\n",
       "      <td>0.228741</td>\n",
       "      <td>-1.193028</td>\n",
       "      <td>-0.461535</td>\n",
       "      <td>0.674943</td>\n",
       "      <td>-1.284988</td>\n",
       "      <td>1.434089</td>\n",
       "      <td>0</td>\n",
       "    </tr>\n",
       "    <tr>\n",
       "      <th>844</th>\n",
       "      <td>-1.740943</td>\n",
       "      <td>0.328033</td>\n",
       "      <td>1.351311</td>\n",
       "      <td>-1.843991</td>\n",
       "      <td>-0.993856</td>\n",
       "      <td>0.377589</td>\n",
       "      <td>-1.153172</td>\n",
       "      <td>1.259231</td>\n",
       "      <td>-1.504410</td>\n",
       "      <td>-0.192535</td>\n",
       "      <td>...</td>\n",
       "      <td>0.666775</td>\n",
       "      <td>0.954289</td>\n",
       "      <td>0.085076</td>\n",
       "      <td>0.149902</td>\n",
       "      <td>1.445272</td>\n",
       "      <td>0.404312</td>\n",
       "      <td>-1.194503</td>\n",
       "      <td>-0.787398</td>\n",
       "      <td>-0.006535</td>\n",
       "      <td>0</td>\n",
       "    </tr>\n",
       "  </tbody>\n",
       "</table>\n",
       "<p>5 rows × 21 columns</p>\n",
       "</div>"
      ],
      "text/plain": [
       "           V1        V2        V3        V4        V5        V6        V7  \\\n",
       "840  1.134880 -0.214241  0.528744  1.328837 -0.426471  0.269760 -0.294896   \n",
       "841 -2.226521  1.361693  2.025260  0.823238  0.244459  0.599506  2.650073   \n",
       "842 -3.055529 -0.557340  2.144689  3.289656  0.273454  1.473169 -0.423035   \n",
       "843 -2.829522 -3.027379  1.260681 -0.467058  0.192918 -1.291539  1.646201   \n",
       "844 -1.740943  0.328033  1.351311 -1.843991 -0.993856  0.377589 -1.153172   \n",
       "\n",
       "           V8        V9       V10  ...       V12       V13       V14  \\\n",
       "840  0.095271  1.057808 -0.274677  ...  0.093055 -0.486427 -0.367803   \n",
       "841 -2.446798  2.269755  3.621816  ... -1.139200 -1.477087 -2.146990   \n",
       "842  0.765013 -0.421320  1.196380  ...  0.913012  0.274182 -0.461024   \n",
       "843 -0.475091 -1.909817 -0.218002  ...  0.151756  1.412842 -0.164931   \n",
       "844  1.259231 -1.504410 -0.192535  ...  0.666775  0.954289  0.085076   \n",
       "\n",
       "          V15       V16       V17       V18       V19       V20  Class  \n",
       "840 -0.800325 -0.297493 -0.102663 -0.093876  0.461431 -0.073023      0  \n",
       "841  0.805907 -2.074258 -0.165043 -1.047570  0.751404 -0.005224      0  \n",
       "842 -0.125364 -0.670081  0.726382 -0.530679  0.917471 -0.325894      0  \n",
       "843  0.228741 -1.193028 -0.461535  0.674943 -1.284988  1.434089      0  \n",
       "844  0.149902  1.445272  0.404312 -1.194503 -0.787398 -0.006535      0  \n",
       "\n",
       "[5 rows x 21 columns]"
      ]
     },
     "execution_count": 27,
     "metadata": {},
     "output_type": "execute_result"
    }
   ],
   "source": [
    "data = pd.read_csv('row_data-20231124T151822Z-001/row_data/data20F.csv')[840:940]\n",
    "features = data.drop(columns=y_feature,axis=1)\n",
    "labels = data[y_feature]\n",
    "data.head()"
   ]
  },
  {
   "cell_type": "code",
   "execution_count": 28,
   "metadata": {},
   "outputs": [
    {
     "data": {
      "text/plain": [
       "840    0\n",
       "841    0\n",
       "842    0\n",
       "843    0\n",
       "844    0\n",
       "      ..\n",
       "935    0\n",
       "936    0\n",
       "937    0\n",
       "938    0\n",
       "939    0\n",
       "Name: Class, Length: 100, dtype: int64"
      ]
     },
     "execution_count": 28,
     "metadata": {},
     "output_type": "execute_result"
    }
   ],
   "source": [
    "labels"
   ]
  },
  {
   "cell_type": "code",
   "execution_count": 16,
   "metadata": {},
   "outputs": [],
   "source": [
    "from sklearn.preprocessing import MinMaxScaler\n",
    "\n",
    "features = MinMaxScaler(feature_range=(0, np.pi)).fit_transform(features)\n",
    "\n",
    "train_features, test_features, train_labels, test_labels = train_test_split(\n",
    "    features, labels, test_size=0.9, shuffle=False\n",
    ")"
   ]
  },
  {
   "cell_type": "code",
   "execution_count": 17,
   "metadata": {},
   "outputs": [],
   "source": [
    "from qiskit import BasicAer\n",
    "from qiskit.circuit.library import ZFeatureMap\n",
    "from qiskit_algorithms.utils import algorithm_globals\n",
    "\n",
    "from qiskit_machine_learning.kernels import FidelityQuantumKernel\n",
    "\n",
    "algorithm_globals.random_seed = 12345\n",
    "\n",
    "feature_map = ZFeatureMap(feature_dimension=feature_number, reps=1)\n",
    "\n",
    "qkernel = FidelityQuantumKernel(feature_map=feature_map)"
   ]
  },
  {
   "cell_type": "code",
   "execution_count": 18,
   "metadata": {},
   "outputs": [],
   "source": [
    "from qiskit_machine_learning.algorithms import PegasosQSVC\n",
    "\n",
    "pegasos_qsvc = PegasosQSVC(quantum_kernel=qkernel, C=C, num_steps=tau)"
   ]
  },
  {
   "cell_type": "code",
   "execution_count": 19,
   "metadata": {},
   "outputs": [
    {
     "ename": "ValueError",
     "evalue": "Only binary classification is supported",
     "output_type": "error",
     "traceback": [
      "\u001b[0;31m---------------------------------------------------------------------------\u001b[0m",
      "\u001b[0;31mValueError\u001b[0m                                Traceback (most recent call last)",
      "Cell \u001b[0;32mIn[19], line 2\u001b[0m\n\u001b[1;32m      1\u001b[0m start_time \u001b[38;5;241m=\u001b[39m time\u001b[38;5;241m.\u001b[39mtime()\n\u001b[0;32m----> 2\u001b[0m \u001b[43mpegasos_qsvc\u001b[49m\u001b[38;5;241;43m.\u001b[39;49m\u001b[43mfit\u001b[49m\u001b[43m(\u001b[49m\u001b[43mtrain_features\u001b[49m\u001b[43m,\u001b[49m\u001b[43m \u001b[49m\u001b[43mtrain_labels\u001b[49m\u001b[43m)\u001b[49m\n\u001b[1;32m      3\u001b[0m elapsed_time \u001b[38;5;241m=\u001b[39m time\u001b[38;5;241m.\u001b[39mtime() \u001b[38;5;241m-\u001b[39m start_time\n\u001b[1;32m      4\u001b[0m \u001b[38;5;28mprint\u001b[39m(\u001b[38;5;124mf\u001b[39m\u001b[38;5;124m'\u001b[39m\u001b[38;5;124mTime spent to fit: \u001b[39m\u001b[38;5;132;01m{\u001b[39;00melapsed_time\u001b[38;5;132;01m}\u001b[39;00m\u001b[38;5;124m'\u001b[39m )\n",
      "File \u001b[0;32m~/mambaforge/envs/qc/lib/python3.11/site-packages/qiskit_machine_learning/algorithms/classifiers/pegasos_qsvc.py:160\u001b[0m, in \u001b[0;36mPegasosQSVC.fit\u001b[0;34m(self, X, y, sample_weight)\u001b[0m\n\u001b[1;32m    158\u001b[0m     \u001b[38;5;28;01mraise\u001b[39;00m \u001b[38;5;167;01mValueError\u001b[39;00m(\u001b[38;5;124m\"\u001b[39m\u001b[38;5;124my has to be a 1D array\u001b[39m\u001b[38;5;124m\"\u001b[39m)\n\u001b[1;32m    159\u001b[0m \u001b[38;5;28;01mif\u001b[39;00m \u001b[38;5;28mlen\u001b[39m(np\u001b[38;5;241m.\u001b[39munique(y)) \u001b[38;5;241m!=\u001b[39m \u001b[38;5;241m2\u001b[39m:\n\u001b[0;32m--> 160\u001b[0m     \u001b[38;5;28;01mraise\u001b[39;00m \u001b[38;5;167;01mValueError\u001b[39;00m(\u001b[38;5;124m\"\u001b[39m\u001b[38;5;124mOnly binary classification is supported\u001b[39m\u001b[38;5;124m\"\u001b[39m)\n\u001b[1;32m    161\u001b[0m \u001b[38;5;28;01mif\u001b[39;00m X\u001b[38;5;241m.\u001b[39mshape[\u001b[38;5;241m0\u001b[39m] \u001b[38;5;241m!=\u001b[39m y\u001b[38;5;241m.\u001b[39mshape[\u001b[38;5;241m0\u001b[39m]:\n\u001b[1;32m    162\u001b[0m     \u001b[38;5;28;01mraise\u001b[39;00m \u001b[38;5;167;01mValueError\u001b[39;00m(\u001b[38;5;124m\"\u001b[39m\u001b[38;5;124m'\u001b[39m\u001b[38;5;124mX\u001b[39m\u001b[38;5;124m'\u001b[39m\u001b[38;5;124m and \u001b[39m\u001b[38;5;124m'\u001b[39m\u001b[38;5;124my\u001b[39m\u001b[38;5;124m'\u001b[39m\u001b[38;5;124m have to contain the same number of samples\u001b[39m\u001b[38;5;124m\"\u001b[39m)\n",
      "\u001b[0;31mValueError\u001b[0m: Only binary classification is supported"
     ]
    }
   ],
   "source": [
    "start_time = time.time()\n",
    "pegasos_qsvc.fit(train_features, train_labels)\n",
    "elapsed_time = time.time() - start_time\n",
    "print(f'Time spent to fit: {elapsed_time}' )"
   ]
  },
  {
   "cell_type": "code",
   "execution_count": null,
   "metadata": {},
   "outputs": [],
   "source": [
    "start_time = time.time()\n",
    "predict_label = pegasos_qsvc.predict(test_features)\n",
    "elapsed_time = time.time() - start_time\n",
    "elapsed_time\n",
    "print(f'Time spent to predict: {elapsed_time}' )"
   ]
  },
  {
   "cell_type": "code",
   "execution_count": null,
   "metadata": {},
   "outputs": [],
   "source": [
    "from sklearn.metrics import classification_report,confusion_matrix\n",
    "print(confusion_matrix(test_labels,predict_label))"
   ]
  },
  {
   "cell_type": "code",
   "execution_count": null,
   "metadata": {},
   "outputs": [],
   "source": [
    "print(classification_report(test_labels,predict_label))"
   ]
  },
  {
   "cell_type": "code",
   "execution_count": null,
   "metadata": {},
   "outputs": [],
   "source": [
    "start_time = time.time()\n",
    "pegasos_score = pegasos_qsvc.score(test_features, test_labels)\n",
    "elapsed_time = time.time() - start_time\n",
    "print(f'score : {pegasos_score} \\ntime to score: {elapsed_time}' )"
   ]
  }
 ],
 "metadata": {
  "kernelspec": {
   "display_name": "Python 3 (ipykernel)",
   "language": "python",
   "name": "python3"
  },
  "language_info": {
   "codemirror_mode": {
    "name": "ipython",
    "version": 3
   },
   "file_extension": ".py",
   "mimetype": "text/x-python",
   "name": "python",
   "nbconvert_exporter": "python",
   "pygments_lexer": "ipython3",
   "version": "3.11.5"
  }
 },
 "nbformat": 4,
 "nbformat_minor": 4
}
