{
 "cells": [
  {
   "cell_type": "code",
   "execution_count": 1,
   "id": "0364532e-ed6c-44e1-9c57-ac9673eeb295",
   "metadata": {
    "tags": []
   },
   "outputs": [],
   "source": [
    "import warnings\n",
    "warnings.simplefilter(\"ignore\",category=DeprecationWarning)"
   ]
  },
  {
   "cell_type": "code",
   "execution_count": 9,
   "id": "9a847489-a84c-476b-9f12-570bf822900e",
   "metadata": {
    "tags": []
   },
   "outputs": [],
   "source": [
    "import time\n",
    "import pandas as pd\n",
    "import numpy as np\n",
    "import qiskit\n",
    "import matplotlib.pyplot as plt\n",
    "from qiskit import BasicAer\n",
    "from qiskit.circuit import QuantumCircuit, ParameterVector\n",
    "from qiskit.circuit.library import RealAmplitudes, ZZFeatureMap, EfficientSU2\n",
    "from qiskit_algorithms.optimizers import COBYLA, L_BFGS_B, QNSPSA\n",
    "from qiskit_machine_learning.algorithms.regressors import NeuralNetworkRegressor, VQR, QSVR\n",
    "from qiskit_machine_learning.neural_networks import SamplerQNN, EstimatorQNN\n",
    "from qiskit_machine_learning.circuit.library import QNNCircuit\n",
    "from sklearn.preprocessing import MinMaxScaler\n",
    "from sklearn.metrics import mean_absolute_error\n",
    "from IPython.display import clear_output\n",
    "from qiskit.utils import QuantumInstance"
   ]
  },
  {
   "cell_type": "code",
   "execution_count": 10,
   "id": "1552d5e6-33f8-4e70-92a0-95397efe529a",
   "metadata": {
    "tags": []
   },
   "outputs": [],
   "source": [
    "test_size = 0.6\n",
    "y_feature = 'resale_price'"
   ]
  },
  {
   "cell_type": "code",
   "execution_count": 11,
   "id": "bd8452b1-5e29-4f1d-87c4-b908f6a140d1",
   "metadata": {
    "tags": []
   },
   "outputs": [],
   "source": [
    "data = pd.read_csv('original_data.csv')\n",
    "X = data.drop(columns=y_feature)\n",
    "y = data[y_feature]"
   ]
  },
  {
   "cell_type": "code",
   "execution_count": 12,
   "id": "827322c8-7a78-4245-9379-ad0534ac1ec7",
   "metadata": {
    "tags": []
   },
   "outputs": [],
   "source": [
    "def list_of_lists_to_dataframe(data):\n",
    "    columns = data[0]\n",
    "    data = data[1:]\n",
    "    df = pd.DataFrame(data, columns=columns)\n",
    "    return df"
   ]
  },
  {
   "cell_type": "code",
   "execution_count": 13,
   "id": "39d2aa36-7084-4b6e-a98f-e332d49f52c2",
   "metadata": {
    "tags": []
   },
   "outputs": [],
   "source": [
    "def callback_graph(weights, obj_func_eval):\n",
    "    clear_output(wait=True)\n",
    "    objective_func_vals.append(obj_func_eval)\n",
    "    plt.title(\"Objective function value against iteration\")\n",
    "    plt.xlabel(\"Iteration\")\n",
    "    plt.ylabel(\"Objective function value\")\n",
    "    plt.plot(range(len(objective_func_vals)), objective_func_vals)\n",
    "    plt.show()"
   ]
  },
  {
   "cell_type": "code",
   "execution_count": 14,
   "id": "7bed5a9f-de07-4946-be17-b03233e309d2",
   "metadata": {
    "tags": []
   },
   "outputs": [],
   "source": [
    "#from qiskit_ibm_runtime import Estimator, QiskitRuntimeService, Session\n",
    "\n",
    "#service = QiskitRuntimeService(\n",
    "#     channel='ibm_quantum',\n",
    "#    instance='ibm-q/open/main',\n",
    "#    token='84e47768480771b0f65f16b3f25447e5ab6b88d174cccb8271d1d0a3e4fdf3ce875e7f9f2612ad64f6f107644f49d8c6d9cd2619469de103753b4ae7556e703a'\n",
    "#)\n",
    "#backend = service.backend('ibmq_qasm_simulator')\n",
    "#estimator = Estimator(backend=backend)\n",
    "\n",
    "# Or save your credentials on disk.\n",
    "# QiskitRuntimeService.save_account(channel='ibm_quantum', instance='ibm-q/open/main', token='<IBM Quantum API key>')"
   ]
  },
  {
   "cell_type": "markdown",
   "id": "5a9d28e0-4c55-4ab2-b178-0a7a14611b7d",
   "metadata": {},
   "source": [
    "## Using NeuralNetworkRegressor"
   ]
  },
  {
   "cell_type": "markdown",
   "id": "ee68f615-ed29-48c2-9eb5-c3f3d3b94847",
   "metadata": {},
   "source": [
    "#### Using QNNCircuit"
   ]
  },
  {
   "cell_type": "code",
   "execution_count": null,
   "id": "22d888d1-054b-42c7-bfcb-418cc11aa0d0",
   "metadata": {},
   "outputs": [],
   "source": [
    "from sklearn import metrics\n",
    "import subprocess  \n",
    "import platform\n",
    "import cpuinfo\n",
    "from sklearn.model_selection import train_test_split\n",
    "# Get CPU information\n",
    "cpu_info = cpuinfo.get_cpu_info()\n",
    "\n",
    "# Extract CPU name from the information\n",
    "cpu = cpu_info['brand_raw']\n",
    "dict = [['fit_time','predict_time', 'score_time', 'score', 'MAE', 'MSE', 'RMSE','feature', 'cpu'] ]\n",
    "for i in range(19):\n",
    "    newAr = []\n",
    "\n",
    "    #data\n",
    "    X_train, X_test, y_train, y_test = train_test_split(X.drop(columns=X.iloc[:, :i-19]), y, test_size=test_size, random_state=101)\n",
    "\n",
    "    #Scaling down data\n",
    "    columns = X_train.columns.tolist()\n",
    "\n",
    "    scaler = MinMaxScaler()\n",
    "    X_train[columns] = scaler.fit_transform(X_train[columns])\n",
    "    y_train = scaler.fit_transform(y_train.to_numpy().reshape(-1,1))\n",
    "    X_test[columns] = scaler.fit_transform(X_test[columns])\n",
    "    y_test = scaler.fit_transform(y_test.to_numpy().reshape(-1,1))\n",
    "\n",
    "\n",
    "    #QNN\n",
    "    qc = QNNCircuit(num_qubits=np.abs(i-19)) #number of features\n",
    "\n",
    "    objective_func_vals = []\n",
    "    regression_estimator_qnn = EstimatorQNN(circuit=qc)\n",
    "    regressor = NeuralNetworkRegressor(neural_network=regression_estimator_qnn,\n",
    "                                   loss='squared_error',\n",
    "                                   optimizer=L_BFGS_B(maxiter=10),callback=callback_graph)\n",
    "    start_time = time.time()\n",
    "    regressor.fit(X_train,y_train)\n",
    "    elapsed_time = time.time() - start_time\n",
    "    newAr.append(elapsed_time *1000000)\n",
    "\n",
    "    start_time = time.time()\n",
    "    predicted_test_labels = regressor.predict(X_test)\n",
    "    elapsed_time = time.time() - start_time\n",
    "    newAr.append(elapsed_time *1000000)\n",
    "\n",
    "    start_time = time.time()\n",
    "    regressor.score(X_test,y_test)\n",
    "    elapsed_time = time.time() - start_time\n",
    "    newAr.append(elapsed_time *1000000)\n",
    "    newAr.append(score)\n",
    "\n",
    "    newAr.append(metrics.mean_absolute_error(y_test, y_pred))\n",
    "    newAr.append(metrics.mean_squared_error(y_test, y_pred))\n",
    "    newAr.append(np.sqrt(metrics.mean_squared_error(y_test, y_pred)))\n",
    "    newAr.append(len(X.drop(columns=X.iloc[:, :i-19]).columns))\n",
    "    newAr.append(cpu)\n",
    "    print(len(X.drop(columns=X.iloc[:, :i-19]).columns))\n",
    "    dict.append(newAr)\n",
    "\n",
    "rr = list_of_lists_to_dataframe(dict)\n",
    "rr.to_csv('NNR_windows.csv',  encoding='utf-8', index=False)"
   ]
  },
  {
   "cell_type": "code",
   "execution_count": null,
   "id": "634e1604-82e1-414f-b53e-a60bee9d67f9",
   "metadata": {
    "tags": []
   },
   "outputs": [],
   "source": [
    "plt.scatter(test_labels,predicted_test_labels)"
   ]
  },
  {
   "cell_type": "markdown",
   "id": "d0d808ca-e430-4132-94e5-4d26029cfc34",
   "metadata": {},
   "source": [
    "## Using VQR"
   ]
  },
  {
   "cell_type": "markdown",
   "id": "853b863c-055f-4278-a7a4-e65467d74052",
   "metadata": {},
   "source": [
    "#### Using RealAmplitudes ansatz"
   ]
  },
  {
   "cell_type": "code",
   "execution_count": 22,
   "id": "79856782-6f0e-4110-8d33-2edd7d21c9a2",
   "metadata": {
    "tags": []
   },
   "outputs": [
    {
     "data": {
      "image/png": "[encoded data removed]",
      "text/plain": [
       "<Figure size 640x480 with 1 Axes>"
      ]
     },
     "metadata": {},
     "output_type": "display_data"
    },
    {
     "name": "stdout",
     "output_type": "stream",
     "text": [
      "9\n"
     ]
    }
   ],
   "source": [
    "from sklearn import metrics\n",
    "import subprocess  \n",
    "import platform\n",
    "from sklearn.model_selection import train_test_split\n",
    "# Get CPU information\n",
    "try:\n",
    "    # Run the lscpu command to get CPU information on Linux/macOS\n",
    "    info = subprocess.check_output([\"lscpu\"]).decode(\"utf-8\").strip()\n",
    "    # Extract CPU name from the lscpu output\n",
    "    cpu = [line.split(':')[1].strip() for line in info.splitlines() if \"Model name\" in line][0]\n",
    "except subprocess.CalledProcessError as e:\n",
    "    print(f\"Error: {e}\")\n",
    "except Exception as e:\n",
    "    print(f\"Unexpected error: {e}\")\n",
    "\n",
    "dict = [['fit_time','predict_time', 'score_time', 'score', 'MAE', 'MSE', 'RMSE','feature', 'cpu'] ]\n",
    "for i in range(2,11):\n",
    "    newAr = []\n",
    "\n",
    "    #data\n",
    "    X_train, X_test, y_train, y_test = train_test_split(X.drop(columns=X.iloc[:, :-i]), y, test_size=test_size, random_state=101)\n",
    "\n",
    "    #Scaling down data\n",
    "    columns = X_train.columns.tolist()\n",
    "\n",
    "    scaler = MinMaxScaler()\n",
    "    X_train[columns] = scaler.fit_transform(X_train[columns])\n",
    "    y_train = scaler.fit_transform(y_train.to_numpy().reshape(-1,1))\n",
    "    X_test[columns] = scaler.fit_transform(X_test[columns])\n",
    "    y_test = scaler.fit_transform(y_test.to_numpy().reshape(-1,1))\n",
    "\n",
    "    #VQR\n",
    "    feature_map = ZZFeatureMap(np.abs(i),reps=1,insert_barriers='True')\n",
    "    ansatz = RealAmplitudes(np.abs(i),reps=3)\n",
    "    objective_func_vals = []\n",
    "    vqr = VQR(\n",
    "        feature_map=feature_map,\n",
    "        ansatz=ansatz,\n",
    "        optimizer=L_BFGS_B(maxiter=10),callback=callback_graph)\n",
    "\n",
    "    starttime = time.time()\n",
    "    vqr.fit(X_train,y_train)\n",
    "    elapsed_time = time.time() - starttime\n",
    "    newAr.append(elapsed_time *1000000)\n",
    "\n",
    "    starttime = time.time()\n",
    "    y_pred = vqr.predict(X_test)\n",
    "    elapsed_time=time.time() - starttime\n",
    "    newAr.append(elapsed_time *1000000)\n",
    "    \n",
    "    starttime=time.time()\n",
    "    score = vqr.score(X_test,y_test)\n",
    "    elapsed_time=time.time() - starttime\n",
    "    newAr.append(elapsed_time *1000000)\n",
    "    newAr.append(score)\n",
    "    \n",
    "    newAr.append(metrics.mean_absolute_error(y_test, y_pred))\n",
    "    newAr.append(metrics.mean_squared_error(y_test, y_pred))\n",
    "    newAr.append(np.sqrt(metrics.mean_squared_error(y_test, y_pred)))\n",
    "    newAr.append(len(X.drop(columns=X.iloc[:, :-i]).columns))\n",
    "    newAr.append(cpu)\n",
    "    print(len(X.drop(columns=X.iloc[:, :-i]).columns))\n",
    "    dict.append(newAr)\n",
    "\n",
    "rr = list_of_lists_to_dataframe(dict)\n",
    "rr.to_csv('VQR_RA_windows.csv',  encoding='utf-8', index=False)"
   ]
  },
  {
   "cell_type": "code",
   "execution_count": 23,
   "id": "879b99d1-8849-445d-9237-ac59d7533136",
   "metadata": {
    "tags": []
   },
   "outputs": [
    {
     "data": {
      "text/plain": [
       "<matplotlib.collections.PathCollection at 0x7f539c9b9ad0>"
      ]
     },
     "execution_count": 23,
     "metadata": {},
     "output_type": "execute_result"
    },
    {
     "data": {
      "image/png": "[encoded data removed]",
      "text/plain": [
       "<Figure size 640x480 with 1 Axes>"
      ]
     },
     "metadata": {},
     "output_type": "display_data"
    }
   ],
   "source": [
    "plt.scatter(y_test,y_pred)"
   ]
  },
  {
   "cell_type": "markdown",
   "id": "c30238b7-8b07-4ecc-9551-db2336669715",
   "metadata": {},
   "source": [
    "#### Using EfficientSU2 ansatz"
   ]
  },
  {
   "cell_type": "code",
   "execution_count": 25,
   "id": "02007271-4a12-4942-b173-c0c2e76101e7",
   "metadata": {},
   "outputs": [
    {
     "data": {
      "image/png": "[encoded data removed]",
      "text/plain": [
       "<Figure size 640x480 with 1 Axes>"
      ]
     },
     "metadata": {},
     "output_type": "display_data"
    },
    {
     "name": "stdout",
     "output_type": "stream",
     "text": [
      "10\n"
     ]
    }
   ],
   "source": [
    "# Get CPU information\n",
    "try:\n",
    "    # Run the lscpu command to get CPU information on Linux/macOS\n",
    "    info = subprocess.check_output([\"lscpu\"]).decode(\"utf-8\").strip()\n",
    "    # Extract CPU name from the lscpu output\n",
    "    cpu = [line.split(':')[1].strip() for line in info.splitlines() if \"Model name\" in line][0]\n",
    "except subprocess.CalledProcessError as e:\n",
    "    print(f\"Error: {e}\")\n",
    "except Exception as e:\n",
    "    print(f\"Unexpected error: {e}\")\n",
    "\n",
    "dict = [['fit_time','predict_time', 'score_time', 'score', 'MAE', 'MSE', 'RMSE','feature', 'cpu'] ]\n",
    "for i in range(2,11):\n",
    "    newAr = []\n",
    "\n",
    "    #data\n",
    "    X_train, X_test, y_train, y_test = train_test_split(X.drop(columns=X.iloc[:, :-i]), y, test_size=test_size, random_state=101)\n",
    "\n",
    "    #Scaling down data\n",
    "    columns = X_train.columns.tolist()\n",
    "\n",
    "    scaler = MinMaxScaler()\n",
    "    X_train[columns] = scaler.fit_transform(X_train[columns])\n",
    "    y_train = scaler.fit_transform(y_train.to_numpy().reshape(-1,1))\n",
    "    X_test[columns] = scaler.fit_transform(X_test[columns])\n",
    "    y_test = scaler.fit_transform(y_test.to_numpy().reshape(-1,1))\n",
    "\n",
    "    #VQR\n",
    "    feature_map = ZZFeatureMap(np.abs(i),reps=1,insert_barriers='True')\n",
    "    ansatz = EfficientSU2(np.abs(i),reps=3)\n",
    "    objective_func_vals = []\n",
    "    vqr = VQR(\n",
    "        feature_map=feature_map,\n",
    "        ansatz=ansatz,\n",
    "        optimizer=L_BFGS_B(maxiter=10),callback=callback_graph)\n",
    "\n",
    "    starttime = time.time()\n",
    "    vqr.fit(X_train,y_train)\n",
    "    elapsed_time = time.time()-starttime\n",
    "    newAr.append(elapsed_time *1000000)\n",
    "\n",
    "    starttime = time.time()\n",
    "    y_pred = vqr.predict(X_test)\n",
    "    elapsed_time=time.time()-starttime\n",
    "    newAr.append(elapsed_time *1000000)\n",
    "    \n",
    "    starttime=time.time()\n",
    "    score = vqr.score(X_test,y_test)\n",
    "    elapsed_time=time.time()-starttime\n",
    "    newAr.append(elapsed_time *1000000)\n",
    "    newAr.append(score)\n",
    "    \n",
    "    newAr.append(metrics.mean_absolute_error(y_test, y_pred))\n",
    "    newAr.append(metrics.mean_squared_error(y_test, y_pred))\n",
    "    newAr.append(np.sqrt(metrics.mean_squared_error(y_test, y_pred)))\n",
    "    newAr.append(len(X.drop(columns=X.iloc[:, :-i]).columns))\n",
    "    newAr.append(cpu)\n",
    "    print(len(X.drop(columns=X.iloc[:, :-i]).columns))\n",
    "    dict.append(newAr)\n",
    "\n",
    "rr = list_of_lists_to_dataframe(dict)\n",
    "rr.to_csv('VQR_ESU2_windows.csv',  encoding='utf-8', index=False)"
   ]
  },
  {
   "cell_type": "code",
   "execution_count": 26,
   "id": "94ddd2c7-0711-4e93-b950-621329edd016",
   "metadata": {},
   "outputs": [
    {
     "data": {
      "text/plain": [
       "<matplotlib.collections.PathCollection at 0x7f53a4421ad0>"
      ]
     },
     "execution_count": 26,
     "metadata": {},
     "output_type": "execute_result"
    },
    {
     "data": {
      "image/png": "[encoded data removed]",
      "text/plain": [
       "<Figure size 640x480 with 1 Axes>"
      ]
     },
     "metadata": {},
     "output_type": "display_data"
    }
   ],
   "source": [
    "plt.scatter(y_test,y_pred)"
   ]
  },
  {
   "cell_type": "markdown",
   "id": "77463914-2543-414d-b8e2-203a5e060ce3",
   "metadata": {},
   "source": [
    "## Using QSVR"
   ]
  },
  {
   "cell_type": "code",
   "execution_count": 27,
   "id": "0b146237-02ff-4bb9-9c15-9eb321d16fa0",
   "metadata": {},
   "outputs": [
    {
     "name": "stderr",
     "output_type": "stream",
     "text": [
      "/home/akashm/mambaforge/envs/qc/lib/python3.11/site-packages/sklearn/svm/_base.py:292: DataConversionWarning: A column-vector y was passed when a 1d array was expected. Please change the shape of y to (n_samples, ), for example using ravel().\n",
      "  return column_or_1d(y, warn=True).astype(np.float64, copy=False)\n"
     ]
    },
    {
     "name": "stdout",
     "output_type": "stream",
     "text": [
      "2\n"
     ]
    },
    {
     "name": "stderr",
     "output_type": "stream",
     "text": [
      "/home/akashm/mambaforge/envs/qc/lib/python3.11/site-packages/sklearn/svm/_base.py:292: DataConversionWarning: A column-vector y was passed when a 1d array was expected. Please change the shape of y to (n_samples, ), for example using ravel().\n",
      "  return column_or_1d(y, warn=True).astype(np.float64, copy=False)\n"
     ]
    },
    {
     "name": "stdout",
     "output_type": "stream",
     "text": [
      "3\n"
     ]
    },
    {
     "name": "stderr",
     "output_type": "stream",
     "text": [
      "/home/akashm/mambaforge/envs/qc/lib/python3.11/site-packages/sklearn/svm/_base.py:292: DataConversionWarning: A column-vector y was passed when a 1d array was expected. Please change the shape of y to (n_samples, ), for example using ravel().\n",
      "  return column_or_1d(y, warn=True).astype(np.float64, copy=False)\n"
     ]
    },
    {
     "name": "stdout",
     "output_type": "stream",
     "text": [
      "4\n"
     ]
    },
    {
     "name": "stderr",
     "output_type": "stream",
     "text": [
      "/home/akashm/mambaforge/envs/qc/lib/python3.11/site-packages/sklearn/svm/_base.py:292: DataConversionWarning: A column-vector y was passed when a 1d array was expected. Please change the shape of y to (n_samples, ), for example using ravel().\n",
      "  return column_or_1d(y, warn=True).astype(np.float64, copy=False)\n"
     ]
    },
    {
     "name": "stdout",
     "output_type": "stream",
     "text": [
      "5\n"
     ]
    },
    {
     "name": "stderr",
     "output_type": "stream",
     "text": [
      "/home/akashm/mambaforge/envs/qc/lib/python3.11/site-packages/sklearn/svm/_base.py:292: DataConversionWarning: A column-vector y was passed when a 1d array was expected. Please change the shape of y to (n_samples, ), for example using ravel().\n",
      "  return column_or_1d(y, warn=True).astype(np.float64, copy=False)\n"
     ]
    },
    {
     "name": "stdout",
     "output_type": "stream",
     "text": [
      "6\n"
     ]
    },
    {
     "name": "stderr",
     "output_type": "stream",
     "text": [
      "/home/akashm/mambaforge/envs/qc/lib/python3.11/site-packages/sklearn/svm/_base.py:292: DataConversionWarning: A column-vector y was passed when a 1d array was expected. Please change the shape of y to (n_samples, ), for example using ravel().\n",
      "  return column_or_1d(y, warn=True).astype(np.float64, copy=False)\n"
     ]
    },
    {
     "name": "stdout",
     "output_type": "stream",
     "text": [
      "7\n"
     ]
    },
    {
     "name": "stderr",
     "output_type": "stream",
     "text": [
      "/home/akashm/mambaforge/envs/qc/lib/python3.11/site-packages/sklearn/svm/_base.py:292: DataConversionWarning: A column-vector y was passed when a 1d array was expected. Please change the shape of y to (n_samples, ), for example using ravel().\n",
      "  return column_or_1d(y, warn=True).astype(np.float64, copy=False)\n"
     ]
    },
    {
     "name": "stdout",
     "output_type": "stream",
     "text": [
      "8\n"
     ]
    },
    {
     "name": "stderr",
     "output_type": "stream",
     "text": [
      "/home/akashm/mambaforge/envs/qc/lib/python3.11/site-packages/sklearn/svm/_base.py:292: DataConversionWarning: A column-vector y was passed when a 1d array was expected. Please change the shape of y to (n_samples, ), for example using ravel().\n",
      "  return column_or_1d(y, warn=True).astype(np.float64, copy=False)\n"
     ]
    },
    {
     "name": "stdout",
     "output_type": "stream",
     "text": [
      "9\n"
     ]
    },
    {
     "name": "stderr",
     "output_type": "stream",
     "text": [
      "/home/akashm/mambaforge/envs/qc/lib/python3.11/site-packages/sklearn/svm/_base.py:292: DataConversionWarning: A column-vector y was passed when a 1d array was expected. Please change the shape of y to (n_samples, ), for example using ravel().\n",
      "  return column_or_1d(y, warn=True).astype(np.float64, copy=False)\n"
     ]
    },
    {
     "name": "stdout",
     "output_type": "stream",
     "text": [
      "10\n"
     ]
    }
   ],
   "source": [
    "from sklearn import metrics\n",
    "import subprocess\n",
    "import platform\n",
    "from sklearn.model_selection import train_test_split\n",
    "try:\n",
    "    # Run the lscpu command to get CPU information on Linux/macOS\n",
    "    info = subprocess.check_output([\"lscpu\"]).decode(\"utf-8\").strip()\n",
    "    # Extract CPU name from the lscpu output\n",
    "    cpu = [line.split(':')[1].strip() for line in info.splitlines() if \"Model name\" in line][0]\n",
    "except subprocess.CalledProcessError as e:\n",
    "    print(f\"Error: {e}\")\n",
    "except Exception as e:\n",
    "    print(f\"Unexpected error: {e}\")\n",
    "\n",
    "dict = [['fit_time','predict_time', 'score_time', 'score', 'MAE', 'MSE', 'RMSE','feature', 'cpu'] ]\n",
    "for i in range(2,11):\n",
    "    newAr = []\n",
    "\n",
    "    #data\n",
    "    X_train, X_test, y_train, y_test = train_test_split(X.drop(columns=X.iloc[:, :-i]), y, test_size=test_size, random_state=101)\n",
    "\n",
    "    #Scaling down data\n",
    "    columns = X_train.columns.tolist()\n",
    "\n",
    "    scaler = MinMaxScaler()\n",
    "    X_train[columns] = scaler.fit_transform(X_train[columns])\n",
    "    y_train = scaler.fit_transform(y_train.to_numpy().reshape(-1,1))\n",
    "    X_test[columns] = scaler.fit_transform(X_test[columns])\n",
    "    y_test = scaler.fit_transform(y_test.to_numpy().reshape(-1,1))\n",
    "\n",
    "\n",
    "    feature_map = ZZFeatureMap(np.abs(i),reps=1,insert_barriers='True')\n",
    "\n",
    "    objective_func_vals = []\n",
    "    qsvr = QSVR()\n",
    "\n",
    "    starttime = time.time()\n",
    "    qsvr.fit(X_train,y_train)\n",
    "    elapsed_time = time.time()-starttime\n",
    "    newAr.append(elapsed_time *1000000)\n",
    "\n",
    "    starttime = time.time()\n",
    "    y_pred = qsvr.predict(X_test)\n",
    "    elapsed_time=time.time()-starttime\n",
    "    newAr.append(elapsed_time *1000000)\n",
    "\n",
    "    starttime=time.time()\n",
    "    score = qsvr.score(X_test,y_test)\n",
    "    elapsed_time=time.time()-starttime\n",
    "    newAr.append(elapsed_time *1000000)\n",
    "    newAr.append(score)\n",
    "\n",
    "    newAr.append(metrics.mean_absolute_error(y_test, y_pred))\n",
    "    newAr.append(metrics.mean_squared_error(y_test, y_pred))\n",
    "    newAr.append(np.sqrt(metrics.mean_squared_error(y_test, y_pred)))\n",
    "    newAr.append(len(X.drop(columns=X.iloc[:, :-i]).columns))\n",
    "    newAr.append(cpu)\n",
    "    print(len(X.drop(columns=X.iloc[:, :-i]).columns))\n",
    "    dict.append(newAr)\n",
    "\n",
    "rr = list_of_lists_to_dataframe(dict)\n",
    "rr.to_csv('QSVR_windows.csv',  encoding='utf-8', index=False)"
   ]
  },
  {
   "cell_type": "code",
   "execution_count": 28,
   "id": "34199750-7c89-4607-b929-72deb4fde7b3",
   "metadata": {},
   "outputs": [
    {
     "data": {
      "text/plain": [
       "<matplotlib.collections.PathCollection at 0x7f5388e97210>"
      ]
     },
     "execution_count": 28,
     "metadata": {},
     "output_type": "execute_result"
    },
    {
     "data": {
      "image/png": "[encoded data removed]",
      "text/plain": [
       "<Figure size 640x480 with 1 Axes>"
      ]
     },
     "metadata": {},
     "output_type": "display_data"
    }
   ],
   "source": [
    "plt.scatter(y_test,y_pred)"
   ]
  },
  {
   "cell_type": "code",
   "execution_count": 17,
   "id": "71257d5b-22ff-4d15-b529-e70d1d9b7dba",
   "metadata": {},
   "outputs": [
    {
     "name": "stdout",
     "output_type": "stream",
     "text": [
      "Mean absolute error for QSVR :0.15961190718327603\n"
     ]
    }
   ],
   "source": [
    "mae_qsvr = mean_absolute_error(y_true=test_labels,y_pred=predicted_qsvr_test_labels)\n",
    "print(f'Mean absolute error for QSVR :{mae_qsvr}')"
   ]
  },
  {
   "cell_type": "code",
   "execution_count": null,
   "id": "49489eac-1671-45f2-adb1-238c6ef5a4a9",
   "metadata": {},
   "outputs": [],
   "source": []
  }
 ],
 "metadata": {
  "kernelspec": {
   "display_name": "Python 3 (ipykernel)",
   "language": "python",
   "name": "python3"
  },
  "language_info": {
   "codemirror_mode": {
    "name": "ipython",
    "version": 3
   },
   "file_extension": ".py",
   "mimetype": "text/x-python",
   "name": "python",
   "nbconvert_exporter": "python",
   "pygments_lexer": "ipython3",
   "version": "3.11.5"
  }
 },
 "nbformat": 4,
 "nbformat_minor": 5
}
