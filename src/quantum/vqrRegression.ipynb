{
 "cells": [
  {
   "cell_type": "code",
   "execution_count": 37,
   "id": "9a847489-a84c-476b-9f12-570bf822900e",
   "metadata": {},
   "outputs": [],
   "source": [
    "feature_number = 20\n",
    "test_size = 0.9\n",
    "y_feature = 'resale_price'\n",
    "token = '84e47768480771b0f65f16b3f25447e5ab6b88d174cccb8271d1d0a3e4fdf3ce875e7f9f2612ad64f6f107644f49d8c6d9cd2619469de103753b4ae7556e703a'\n",
    "backendSever = 'ibm_lagos'\n"
   ]
  },
  {
   "cell_type": "code",
   "execution_count": 38,
   "metadata": {},
   "outputs": [],
   "source": [
    "import time\n",
    "import pandas as pd\n",
    "import numpy as np\n",
    "import qiskit\n",
    "import matplotlib.pyplot as plt\n",
    "from qiskit_algorithms.optimizers import L_BFGS_B\n",
    "from qiskit_machine_learning.algorithms.regressors import NeuralNetworkRegressor, VQR\n",
    "from qiskit.circuit.library import RealAmplitudes, ZZFeatureMap\n",
    "from qiskit_machine_learning.circuit.library import QNNCircuit\n",
    "from sklearn.model_selection import train_test_split"
   ]
  },
  {
   "cell_type": "code",
   "execution_count": 39,
   "id": "1552d5e6-33f8-4e70-92a0-95397efe529a",
   "metadata": {},
   "outputs": [],
   "source": [
    "data = pd.read_csv(f'../data/flat_data/{feature_number}F/data.csv')\n",
    "X = data.drop(columns=y_feature)\n",
    "y = data[y_feature]"
   ]
  },
  {
   "cell_type": "code",
   "execution_count": 40,
   "metadata": {},
   "outputs": [],
   "source": [
    "train_data, test_data, train_labels , test_labels = train_test_split(X, y, test_size=test_size, random_state=101)"
   ]
  },
  {
   "cell_type": "code",
   "execution_count": 41,
   "id": "39d2aa36-7084-4b6e-a98f-e332d49f52c2",
   "metadata": {},
   "outputs": [],
   "source": [
    "def callback_graph(weights, obj_func_eval):\n",
    "    clear_output(wait=True)\n",
    "    objective_func_vals.append(obj_func_eval)\n",
    "    plt.title(\"Objective function value against iteration\")\n",
    "    plt.xlabel(\"Iteration\")\n",
    "    plt.ylabel(\"Objective function value\")\n",
    "    plt.plot(range(len(objective_func_vals)), objective_func_vals)\n",
    "    plt.show()"
   ]
  },
  {
   "cell_type": "code",
   "execution_count": 42,
   "id": "d56c415f-b866-4b50-9248-05331eb22edb",
   "metadata": {},
   "outputs": [],
   "source": [
    "from qiskit.primitives import Estimator"
   ]
  },
  {
   "cell_type": "code",
   "execution_count": 43,
   "id": "7bed5a9f-de07-4946-be17-b03233e309d2",
   "metadata": {},
   "outputs": [],
   "source": [
    "from qiskit_ibm_runtime import Estimator, QiskitRuntimeService\n",
    "\n",
    "service = QiskitRuntimeService(\n",
    "     channel='ibm_quantum',\n",
    "    instance='ibm-q/open/main',\n",
    "    token=token\n",
    ")\n",
    "backend = service.backend(backendSever)\n",
    "estimator = Estimator(backend=backend)"
   ]
  },
  {
   "cell_type": "code",
   "execution_count": 44,
   "metadata": {},
   "outputs": [],
   "source": [
    "feature_map = ZZFeatureMap(20,reps=1,insert_barriers='True')\n",
    "ansatz = RealAmplitudes(20,reps=1)"
   ]
  },
  {
   "cell_type": "code",
   "execution_count": 45,
   "metadata": {},
   "outputs": [],
   "source": [
    "vqr = VQR(\n",
    "    feature_map=feature_map,\n",
    "    ansatz=ansatz,\n",
    "    optimizer=L_BFGS_B(maxiter=5))"
   ]
  },
  {
   "cell_type": "code",
   "execution_count": 46,
   "metadata": {},
   "outputs": [
    {
     "ename": "KeyboardInterrupt",
     "evalue": "",
     "output_type": "error",
     "traceback": [
      "\u001b[1;31m---------------------------------------------------------------------------\u001b[0m",
      "\u001b[1;31mKeyboardInterrupt\u001b[0m                         Traceback (most recent call last)",
      "\u001b[1;32mc:\\Users\\daivesam\\projects\\proj_gatecrashers\\src\\quantum\\vqrRegression.ipynb Cell 10\u001b[0m line \u001b[0;36m4\n\u001b[0;32m      <a href='vscode-notebook-cell:/c%3A/Users/daivesam/projects/proj_gatecrashers/src/quantum/vqrRegression.ipynb#X22sZmlsZQ%3D%3D?line=0'>1</a>\u001b[0m objective_func_vals \u001b[39m=\u001b[39m []\n\u001b[0;32m      <a href='vscode-notebook-cell:/c%3A/Users/daivesam/projects/proj_gatecrashers/src/quantum/vqrRegression.ipynb#X22sZmlsZQ%3D%3D?line=2'>3</a>\u001b[0m start_time \u001b[39m=\u001b[39m time\u001b[39m.\u001b[39mtime()\n\u001b[1;32m----> <a href='vscode-notebook-cell:/c%3A/Users/daivesam/projects/proj_gatecrashers/src/quantum/vqrRegression.ipynb#X22sZmlsZQ%3D%3D?line=3'>4</a>\u001b[0m vqr\u001b[39m.\u001b[39;49mfit(train_data,train_labels)\n\u001b[0;32m      <a href='vscode-notebook-cell:/c%3A/Users/daivesam/projects/proj_gatecrashers/src/quantum/vqrRegression.ipynb#X22sZmlsZQ%3D%3D?line=4'>5</a>\u001b[0m elapsed_time \u001b[39m=\u001b[39m time\u001b[39m.\u001b[39mtime() \u001b[39m-\u001b[39m start_time\n\u001b[0;32m      <a href='vscode-notebook-cell:/c%3A/Users/daivesam/projects/proj_gatecrashers/src/quantum/vqrRegression.ipynb#X22sZmlsZQ%3D%3D?line=6'>7</a>\u001b[0m \u001b[39mprint\u001b[39m(\u001b[39mf\u001b[39m\u001b[39m'\u001b[39m\u001b[39mTime spent to fit: \u001b[39m\u001b[39m{\u001b[39;00melapsed_time\u001b[39m}\u001b[39;00m\u001b[39m'\u001b[39m )\n",
      "File \u001b[1;32m~\\AppData\\Local\\Packages\\PythonSoftwareFoundation.Python.3.11_qbz5n2kfra8p0\\LocalCache\\local-packages\\Python311\\site-packages\\qiskit_machine_learning\\algorithms\\trainable_model.py:199\u001b[0m, in \u001b[0;36mTrainableModel.fit\u001b[1;34m(self, X, y)\u001b[0m\n\u001b[0;32m    196\u001b[0m \u001b[39mif\u001b[39;00m \u001b[39mnot\u001b[39;00m \u001b[39mself\u001b[39m\u001b[39m.\u001b[39m_warm_start:\n\u001b[0;32m    197\u001b[0m     \u001b[39mself\u001b[39m\u001b[39m.\u001b[39m_fit_result \u001b[39m=\u001b[39m \u001b[39mNone\u001b[39;00m\n\u001b[1;32m--> 199\u001b[0m \u001b[39mself\u001b[39m\u001b[39m.\u001b[39m_fit_result \u001b[39m=\u001b[39m \u001b[39mself\u001b[39;49m\u001b[39m.\u001b[39;49m_fit_internal(X, y)\n\u001b[0;32m    200\u001b[0m \u001b[39mreturn\u001b[39;00m \u001b[39mself\u001b[39m\n",
      "File \u001b[1;32m~\\AppData\\Local\\Packages\\PythonSoftwareFoundation.Python.3.11_qbz5n2kfra8p0\\LocalCache\\local-packages\\Python311\\site-packages\\qiskit_machine_learning\\algorithms\\regressors\\neural_network_regressor.py:44\u001b[0m, in \u001b[0;36mNeuralNetworkRegressor._fit_internal\u001b[1;34m(self, X, y)\u001b[0m\n\u001b[0;32m     41\u001b[0m \u001b[39melse\u001b[39;00m:\n\u001b[0;32m     42\u001b[0m     function \u001b[39m=\u001b[39m MultiClassObjectiveFunction(X, y, \u001b[39mself\u001b[39m\u001b[39m.\u001b[39m_neural_network, \u001b[39mself\u001b[39m\u001b[39m.\u001b[39m_loss)\n\u001b[1;32m---> 44\u001b[0m \u001b[39mreturn\u001b[39;00m \u001b[39mself\u001b[39;49m\u001b[39m.\u001b[39;49m_minimize(function)\n",
      "File \u001b[1;32m~\\AppData\\Local\\Packages\\PythonSoftwareFoundation.Python.3.11_qbz5n2kfra8p0\\LocalCache\\local-packages\\Python311\\site-packages\\qiskit_machine_learning\\algorithms\\trainable_model.py:295\u001b[0m, in \u001b[0;36mTrainableModel._minimize\u001b[1;34m(self, function)\u001b[0m\n\u001b[0;32m    291\u001b[0m     optimizer_result \u001b[39m=\u001b[39m \u001b[39mself\u001b[39m\u001b[39m.\u001b[39m_optimizer(\n\u001b[0;32m    292\u001b[0m         fun\u001b[39m=\u001b[39mobjective, x0\u001b[39m=\u001b[39minitial_point, jac\u001b[39m=\u001b[39mfunction\u001b[39m.\u001b[39mgradient\n\u001b[0;32m    293\u001b[0m     )\n\u001b[0;32m    294\u001b[0m \u001b[39melse\u001b[39;00m:\n\u001b[1;32m--> 295\u001b[0m     optimizer_result \u001b[39m=\u001b[39m \u001b[39mself\u001b[39;49m\u001b[39m.\u001b[39;49m_optimizer\u001b[39m.\u001b[39;49mminimize(\n\u001b[0;32m    296\u001b[0m         fun\u001b[39m=\u001b[39;49mobjective,\n\u001b[0;32m    297\u001b[0m         x0\u001b[39m=\u001b[39;49minitial_point,\n\u001b[0;32m    298\u001b[0m         jac\u001b[39m=\u001b[39;49mfunction\u001b[39m.\u001b[39;49mgradient,\n\u001b[0;32m    299\u001b[0m     )\n\u001b[0;32m    300\u001b[0m \u001b[39mreturn\u001b[39;00m optimizer_result\n",
      "File \u001b[1;32m~\\AppData\\Local\\Packages\\PythonSoftwareFoundation.Python.3.11_qbz5n2kfra8p0\\LocalCache\\local-packages\\Python311\\site-packages\\qiskit_algorithms\\optimizers\\scipy_optimizer.py:148\u001b[0m, in \u001b[0;36mSciPyOptimizer.minimize\u001b[1;34m(self, fun, x0, jac, bounds)\u001b[0m\n\u001b[0;32m    145\u001b[0m     swapped_deprecated_args \u001b[39m=\u001b[39m \u001b[39mTrue\u001b[39;00m\n\u001b[0;32m    146\u001b[0m     \u001b[39mself\u001b[39m\u001b[39m.\u001b[39m_options[\u001b[39m\"\u001b[39m\u001b[39mmaxfun\u001b[39m\u001b[39m\"\u001b[39m] \u001b[39m=\u001b[39m \u001b[39mself\u001b[39m\u001b[39m.\u001b[39m_options\u001b[39m.\u001b[39mpop(\u001b[39m\"\u001b[39m\u001b[39mmaxiter\u001b[39m\u001b[39m\"\u001b[39m)\n\u001b[1;32m--> 148\u001b[0m raw_result \u001b[39m=\u001b[39m minimize(\n\u001b[0;32m    149\u001b[0m     fun\u001b[39m=\u001b[39;49mfun,\n\u001b[0;32m    150\u001b[0m     x0\u001b[39m=\u001b[39;49mx0,\n\u001b[0;32m    151\u001b[0m     method\u001b[39m=\u001b[39;49m\u001b[39mself\u001b[39;49m\u001b[39m.\u001b[39;49m_method,\n\u001b[0;32m    152\u001b[0m     jac\u001b[39m=\u001b[39;49mjac,\n\u001b[0;32m    153\u001b[0m     bounds\u001b[39m=\u001b[39;49mbounds,\n\u001b[0;32m    154\u001b[0m     options\u001b[39m=\u001b[39;49m\u001b[39mself\u001b[39;49m\u001b[39m.\u001b[39;49m_options,\n\u001b[0;32m    155\u001b[0m     \u001b[39m*\u001b[39;49m\u001b[39m*\u001b[39;49m\u001b[39mself\u001b[39;49m\u001b[39m.\u001b[39;49m_kwargs,\n\u001b[0;32m    156\u001b[0m )\n\u001b[0;32m    157\u001b[0m \u001b[39mif\u001b[39;00m swapped_deprecated_args:\n\u001b[0;32m    158\u001b[0m     \u001b[39mself\u001b[39m\u001b[39m.\u001b[39m_options[\u001b[39m\"\u001b[39m\u001b[39mmaxiter\u001b[39m\u001b[39m\"\u001b[39m] \u001b[39m=\u001b[39m \u001b[39mself\u001b[39m\u001b[39m.\u001b[39m_options\u001b[39m.\u001b[39mpop(\u001b[39m\"\u001b[39m\u001b[39mmaxfun\u001b[39m\u001b[39m\"\u001b[39m)\n",
      "File \u001b[1;32m~\\AppData\\Local\\Packages\\PythonSoftwareFoundation.Python.3.11_qbz5n2kfra8p0\\LocalCache\\local-packages\\Python311\\site-packages\\scipy\\optimize\\_minimize.py:710\u001b[0m, in \u001b[0;36mminimize\u001b[1;34m(fun, x0, args, method, jac, hess, hessp, bounds, constraints, tol, callback, options)\u001b[0m\n\u001b[0;32m    707\u001b[0m     res \u001b[39m=\u001b[39m _minimize_newtoncg(fun, x0, args, jac, hess, hessp, callback,\n\u001b[0;32m    708\u001b[0m                              \u001b[39m*\u001b[39m\u001b[39m*\u001b[39moptions)\n\u001b[0;32m    709\u001b[0m \u001b[39melif\u001b[39;00m meth \u001b[39m==\u001b[39m \u001b[39m'\u001b[39m\u001b[39ml-bfgs-b\u001b[39m\u001b[39m'\u001b[39m:\n\u001b[1;32m--> 710\u001b[0m     res \u001b[39m=\u001b[39m _minimize_lbfgsb(fun, x0, args, jac, bounds,\n\u001b[0;32m    711\u001b[0m                            callback\u001b[39m=\u001b[39;49mcallback, \u001b[39m*\u001b[39;49m\u001b[39m*\u001b[39;49moptions)\n\u001b[0;32m    712\u001b[0m \u001b[39melif\u001b[39;00m meth \u001b[39m==\u001b[39m \u001b[39m'\u001b[39m\u001b[39mtnc\u001b[39m\u001b[39m'\u001b[39m:\n\u001b[0;32m    713\u001b[0m     res \u001b[39m=\u001b[39m _minimize_tnc(fun, x0, args, jac, bounds, callback\u001b[39m=\u001b[39mcallback,\n\u001b[0;32m    714\u001b[0m                         \u001b[39m*\u001b[39m\u001b[39m*\u001b[39moptions)\n",
      "File \u001b[1;32m~\\AppData\\Local\\Packages\\PythonSoftwareFoundation.Python.3.11_qbz5n2kfra8p0\\LocalCache\\local-packages\\Python311\\site-packages\\scipy\\optimize\\_lbfgsb_py.py:307\u001b[0m, in \u001b[0;36m_minimize_lbfgsb\u001b[1;34m(fun, x0, args, jac, bounds, disp, maxcor, ftol, gtol, eps, maxfun, maxiter, iprint, callback, maxls, finite_diff_rel_step, **unknown_options)\u001b[0m\n\u001b[0;32m    304\u001b[0m     \u001b[39melse\u001b[39;00m:\n\u001b[0;32m    305\u001b[0m         iprint \u001b[39m=\u001b[39m disp\n\u001b[1;32m--> 307\u001b[0m sf \u001b[39m=\u001b[39m _prepare_scalar_function(fun, x0, jac\u001b[39m=\u001b[39;49mjac, args\u001b[39m=\u001b[39;49margs, epsilon\u001b[39m=\u001b[39;49meps,\n\u001b[0;32m    308\u001b[0m                               bounds\u001b[39m=\u001b[39;49mnew_bounds,\n\u001b[0;32m    309\u001b[0m                               finite_diff_rel_step\u001b[39m=\u001b[39;49mfinite_diff_rel_step)\n\u001b[0;32m    311\u001b[0m func_and_grad \u001b[39m=\u001b[39m sf\u001b[39m.\u001b[39mfun_and_grad\n\u001b[0;32m    313\u001b[0m fortran_int \u001b[39m=\u001b[39m _lbfgsb\u001b[39m.\u001b[39mtypes\u001b[39m.\u001b[39mintvar\u001b[39m.\u001b[39mdtype\n",
      "File \u001b[1;32m~\\AppData\\Local\\Packages\\PythonSoftwareFoundation.Python.3.11_qbz5n2kfra8p0\\LocalCache\\local-packages\\Python311\\site-packages\\scipy\\optimize\\_optimize.py:383\u001b[0m, in \u001b[0;36m_prepare_scalar_function\u001b[1;34m(fun, x0, jac, args, bounds, epsilon, finite_diff_rel_step, hess)\u001b[0m\n\u001b[0;32m    379\u001b[0m     bounds \u001b[39m=\u001b[39m (\u001b[39m-\u001b[39mnp\u001b[39m.\u001b[39minf, np\u001b[39m.\u001b[39minf)\n\u001b[0;32m    381\u001b[0m \u001b[39m# ScalarFunction caches. Reuse of fun(x) during grad\u001b[39;00m\n\u001b[0;32m    382\u001b[0m \u001b[39m# calculation reduces overall function evaluations.\u001b[39;00m\n\u001b[1;32m--> 383\u001b[0m sf \u001b[39m=\u001b[39m ScalarFunction(fun, x0, args, grad, hess,\n\u001b[0;32m    384\u001b[0m                     finite_diff_rel_step, bounds, epsilon\u001b[39m=\u001b[39;49mepsilon)\n\u001b[0;32m    386\u001b[0m \u001b[39mreturn\u001b[39;00m sf\n",
      "File \u001b[1;32m~\\AppData\\Local\\Packages\\PythonSoftwareFoundation.Python.3.11_qbz5n2kfra8p0\\LocalCache\\local-packages\\Python311\\site-packages\\scipy\\optimize\\_differentiable_functions.py:158\u001b[0m, in \u001b[0;36mScalarFunction.__init__\u001b[1;34m(self, fun, x0, args, grad, hess, finite_diff_rel_step, finite_diff_bounds, epsilon)\u001b[0m\n\u001b[0;32m    155\u001b[0m     \u001b[39mself\u001b[39m\u001b[39m.\u001b[39mf \u001b[39m=\u001b[39m fun_wrapped(\u001b[39mself\u001b[39m\u001b[39m.\u001b[39mx)\n\u001b[0;32m    157\u001b[0m \u001b[39mself\u001b[39m\u001b[39m.\u001b[39m_update_fun_impl \u001b[39m=\u001b[39m update_fun\n\u001b[1;32m--> 158\u001b[0m \u001b[39mself\u001b[39;49m\u001b[39m.\u001b[39;49m_update_fun()\n\u001b[0;32m    160\u001b[0m \u001b[39m# Gradient evaluation\u001b[39;00m\n\u001b[0;32m    161\u001b[0m \u001b[39mif\u001b[39;00m \u001b[39mcallable\u001b[39m(grad):\n",
      "File \u001b[1;32m~\\AppData\\Local\\Packages\\PythonSoftwareFoundation.Python.3.11_qbz5n2kfra8p0\\LocalCache\\local-packages\\Python311\\site-packages\\scipy\\optimize\\_differentiable_functions.py:251\u001b[0m, in \u001b[0;36mScalarFunction._update_fun\u001b[1;34m(self)\u001b[0m\n\u001b[0;32m    249\u001b[0m \u001b[39mdef\u001b[39;00m \u001b[39m_update_fun\u001b[39m(\u001b[39mself\u001b[39m):\n\u001b[0;32m    250\u001b[0m     \u001b[39mif\u001b[39;00m \u001b[39mnot\u001b[39;00m \u001b[39mself\u001b[39m\u001b[39m.\u001b[39mf_updated:\n\u001b[1;32m--> 251\u001b[0m         \u001b[39mself\u001b[39;49m\u001b[39m.\u001b[39;49m_update_fun_impl()\n\u001b[0;32m    252\u001b[0m         \u001b[39mself\u001b[39m\u001b[39m.\u001b[39mf_updated \u001b[39m=\u001b[39m \u001b[39mTrue\u001b[39;00m\n",
      "File \u001b[1;32m~\\AppData\\Local\\Packages\\PythonSoftwareFoundation.Python.3.11_qbz5n2kfra8p0\\LocalCache\\local-packages\\Python311\\site-packages\\scipy\\optimize\\_differentiable_functions.py:155\u001b[0m, in \u001b[0;36mScalarFunction.__init__.<locals>.update_fun\u001b[1;34m()\u001b[0m\n\u001b[0;32m    154\u001b[0m \u001b[39mdef\u001b[39;00m \u001b[39mupdate_fun\u001b[39m():\n\u001b[1;32m--> 155\u001b[0m     \u001b[39mself\u001b[39m\u001b[39m.\u001b[39mf \u001b[39m=\u001b[39m fun_wrapped(\u001b[39mself\u001b[39;49m\u001b[39m.\u001b[39;49mx)\n",
      "File \u001b[1;32m~\\AppData\\Local\\Packages\\PythonSoftwareFoundation.Python.3.11_qbz5n2kfra8p0\\LocalCache\\local-packages\\Python311\\site-packages\\scipy\\optimize\\_differentiable_functions.py:137\u001b[0m, in \u001b[0;36mScalarFunction.__init__.<locals>.fun_wrapped\u001b[1;34m(x)\u001b[0m\n\u001b[0;32m    133\u001b[0m \u001b[39mself\u001b[39m\u001b[39m.\u001b[39mnfev \u001b[39m+\u001b[39m\u001b[39m=\u001b[39m \u001b[39m1\u001b[39m\n\u001b[0;32m    134\u001b[0m \u001b[39m# Send a copy because the user may overwrite it.\u001b[39;00m\n\u001b[0;32m    135\u001b[0m \u001b[39m# Overwriting results in undefined behaviour because\u001b[39;00m\n\u001b[0;32m    136\u001b[0m \u001b[39m# fun(self.x) will change self.x, with the two no longer linked.\u001b[39;00m\n\u001b[1;32m--> 137\u001b[0m fx \u001b[39m=\u001b[39m fun(np\u001b[39m.\u001b[39;49mcopy(x), \u001b[39m*\u001b[39;49margs)\n\u001b[0;32m    138\u001b[0m \u001b[39m# Make sure the function returns a true scalar\u001b[39;00m\n\u001b[0;32m    139\u001b[0m \u001b[39mif\u001b[39;00m \u001b[39mnot\u001b[39;00m np\u001b[39m.\u001b[39misscalar(fx):\n",
      "File \u001b[1;32m~\\AppData\\Local\\Packages\\PythonSoftwareFoundation.Python.3.11_qbz5n2kfra8p0\\LocalCache\\local-packages\\Python311\\site-packages\\qiskit_machine_learning\\algorithms\\objective_functions.py:115\u001b[0m, in \u001b[0;36mBinaryObjectiveFunction.objective\u001b[1;34m(self, weights)\u001b[0m\n\u001b[0;32m    113\u001b[0m \u001b[39mdef\u001b[39;00m \u001b[39mobjective\u001b[39m(\u001b[39mself\u001b[39m, weights: np\u001b[39m.\u001b[39mndarray) \u001b[39m-\u001b[39m\u001b[39m>\u001b[39m \u001b[39mfloat\u001b[39m:\n\u001b[0;32m    114\u001b[0m     \u001b[39m# predict is of shape (N, 1), where N is a number of samples\u001b[39;00m\n\u001b[1;32m--> 115\u001b[0m     predict \u001b[39m=\u001b[39m \u001b[39mself\u001b[39;49m\u001b[39m.\u001b[39;49m_neural_network_forward(weights)\n\u001b[0;32m    116\u001b[0m     target \u001b[39m=\u001b[39m np\u001b[39m.\u001b[39marray(\u001b[39mself\u001b[39m\u001b[39m.\u001b[39m_y)\u001b[39m.\u001b[39mreshape(predict\u001b[39m.\u001b[39mshape)\n\u001b[0;32m    117\u001b[0m     \u001b[39m# float(...) is for mypy compliance\u001b[39;00m\n",
      "File \u001b[1;32m~\\AppData\\Local\\Packages\\PythonSoftwareFoundation.Python.3.11_qbz5n2kfra8p0\\LocalCache\\local-packages\\Python311\\site-packages\\qiskit_machine_learning\\algorithms\\objective_functions.py:102\u001b[0m, in \u001b[0;36mObjectiveFunction._neural_network_forward\u001b[1;34m(self, weights)\u001b[0m\n\u001b[0;32m     97\u001b[0m \u001b[39m# if we get the same weights, we don't compute the forward pass again.\u001b[39;00m\n\u001b[0;32m     98\u001b[0m \u001b[39mif\u001b[39;00m \u001b[39mself\u001b[39m\u001b[39m.\u001b[39m_last_forward_weights \u001b[39mis\u001b[39;00m \u001b[39mNone\u001b[39;00m \u001b[39mor\u001b[39;00m (\n\u001b[0;32m     99\u001b[0m     \u001b[39mnot\u001b[39;00m np\u001b[39m.\u001b[39mall(np\u001b[39m.\u001b[39misclose(weights, \u001b[39mself\u001b[39m\u001b[39m.\u001b[39m_last_forward_weights))\n\u001b[0;32m    100\u001b[0m ):\n\u001b[0;32m    101\u001b[0m     \u001b[39m# compute forward and cache the results for re-use in backward\u001b[39;00m\n\u001b[1;32m--> 102\u001b[0m     \u001b[39mself\u001b[39m\u001b[39m.\u001b[39m_last_forward \u001b[39m=\u001b[39m \u001b[39mself\u001b[39;49m\u001b[39m.\u001b[39;49m_neural_network\u001b[39m.\u001b[39;49mforward(\u001b[39mself\u001b[39;49m\u001b[39m.\u001b[39;49m_X, weights)\n\u001b[0;32m    103\u001b[0m     \u001b[39m# a copy avoids keeping a reference to the same array, so we are sure we have\u001b[39;00m\n\u001b[0;32m    104\u001b[0m     \u001b[39m# different arrays on the next iteration.\u001b[39;00m\n\u001b[0;32m    105\u001b[0m     \u001b[39mself\u001b[39m\u001b[39m.\u001b[39m_last_forward_weights \u001b[39m=\u001b[39m np\u001b[39m.\u001b[39mcopy(weights)\n",
      "File \u001b[1;32m~\\AppData\\Local\\Packages\\PythonSoftwareFoundation.Python.3.11_qbz5n2kfra8p0\\LocalCache\\local-packages\\Python311\\site-packages\\qiskit_machine_learning\\neural_networks\\neural_network.py:226\u001b[0m, in \u001b[0;36mNeuralNetwork.forward\u001b[1;34m(self, input_data, weights)\u001b[0m\n\u001b[0;32m    224\u001b[0m input_, shape \u001b[39m=\u001b[39m \u001b[39mself\u001b[39m\u001b[39m.\u001b[39m_validate_input(input_data)\n\u001b[0;32m    225\u001b[0m weights_ \u001b[39m=\u001b[39m \u001b[39mself\u001b[39m\u001b[39m.\u001b[39m_validate_weights(weights)\n\u001b[1;32m--> 226\u001b[0m output_data \u001b[39m=\u001b[39m \u001b[39mself\u001b[39;49m\u001b[39m.\u001b[39;49m_forward(input_, weights_)\n\u001b[0;32m    227\u001b[0m \u001b[39mreturn\u001b[39;00m \u001b[39mself\u001b[39m\u001b[39m.\u001b[39m_validate_forward_output(output_data, shape)\n",
      "File \u001b[1;32m~\\AppData\\Local\\Packages\\PythonSoftwareFoundation.Python.3.11_qbz5n2kfra8p0\\LocalCache\\local-packages\\Python311\\site-packages\\qiskit_machine_learning\\neural_networks\\estimator_qnn.py:216\u001b[0m, in \u001b[0;36mEstimatorQNN._forward\u001b[1;34m(self, input_data, weights)\u001b[0m\n\u001b[0;32m    214\u001b[0m \u001b[39m\u001b[39m\u001b[39m\"\"\"Forward pass of the neural network.\"\"\"\u001b[39;00m\n\u001b[0;32m    215\u001b[0m parameter_values_, num_samples \u001b[39m=\u001b[39m \u001b[39mself\u001b[39m\u001b[39m.\u001b[39m_preprocess_forward(input_data, weights)\n\u001b[1;32m--> 216\u001b[0m job \u001b[39m=\u001b[39m \u001b[39mself\u001b[39;49m\u001b[39m.\u001b[39;49mestimator\u001b[39m.\u001b[39;49mrun(\n\u001b[0;32m    217\u001b[0m     [\u001b[39mself\u001b[39;49m\u001b[39m.\u001b[39;49m_circuit] \u001b[39m*\u001b[39;49m num_samples \u001b[39m*\u001b[39;49m \u001b[39mself\u001b[39;49m\u001b[39m.\u001b[39;49moutput_shape[\u001b[39m0\u001b[39;49m],\n\u001b[0;32m    218\u001b[0m     [op \u001b[39mfor\u001b[39;49;00m op \u001b[39min\u001b[39;49;00m \u001b[39mself\u001b[39;49m\u001b[39m.\u001b[39;49m_observables \u001b[39mfor\u001b[39;49;00m _ \u001b[39min\u001b[39;49;00m \u001b[39mrange\u001b[39;49m(num_samples)],\n\u001b[0;32m    219\u001b[0m     np\u001b[39m.\u001b[39;49mtile(parameter_values_, (\u001b[39mself\u001b[39;49m\u001b[39m.\u001b[39;49moutput_shape[\u001b[39m0\u001b[39;49m], \u001b[39m1\u001b[39;49m)),\n\u001b[0;32m    220\u001b[0m )\n\u001b[0;32m    221\u001b[0m \u001b[39mtry\u001b[39;00m:\n\u001b[0;32m    222\u001b[0m     results \u001b[39m=\u001b[39m job\u001b[39m.\u001b[39mresult()\n",
      "File \u001b[1;32m~\\AppData\\Local\\Packages\\PythonSoftwareFoundation.Python.3.11_qbz5n2kfra8p0\\LocalCache\\local-packages\\Python311\\site-packages\\qiskit\\primitives\\base\\base_estimator.py:188\u001b[0m, in \u001b[0;36mBaseEstimator.run\u001b[1;34m(self, circuits, observables, parameter_values, **run_options)\u001b[0m\n\u001b[0;32m    185\u001b[0m run_opts \u001b[39m=\u001b[39m copy(\u001b[39mself\u001b[39m\u001b[39m.\u001b[39moptions)\n\u001b[0;32m    186\u001b[0m run_opts\u001b[39m.\u001b[39mupdate_options(\u001b[39m*\u001b[39m\u001b[39m*\u001b[39mrun_options)\n\u001b[1;32m--> 188\u001b[0m \u001b[39mreturn\u001b[39;00m \u001b[39mself\u001b[39;49m\u001b[39m.\u001b[39;49m_run(\n\u001b[0;32m    189\u001b[0m     circuits,\n\u001b[0;32m    190\u001b[0m     observables,\n\u001b[0;32m    191\u001b[0m     parameter_values,\n\u001b[0;32m    192\u001b[0m     \u001b[39m*\u001b[39;49m\u001b[39m*\u001b[39;49mrun_opts\u001b[39m.\u001b[39;49m\u001b[39m__dict__\u001b[39;49m,\n\u001b[0;32m    193\u001b[0m )\n",
      "File \u001b[1;32m~\\AppData\\Local\\Packages\\PythonSoftwareFoundation.Python.3.11_qbz5n2kfra8p0\\LocalCache\\local-packages\\Python311\\site-packages\\qiskit\\primitives\\estimator.py:136\u001b[0m, in \u001b[0;36mEstimator._run\u001b[1;34m(self, circuits, observables, parameter_values, **run_options)\u001b[0m\n\u001b[0;32m    134\u001b[0m circuit_indices \u001b[39m=\u001b[39m []\n\u001b[0;32m    135\u001b[0m \u001b[39mfor\u001b[39;00m circuit \u001b[39min\u001b[39;00m circuits:\n\u001b[1;32m--> 136\u001b[0m     key \u001b[39m=\u001b[39m _circuit_key(circuit)\n\u001b[0;32m    137\u001b[0m     index \u001b[39m=\u001b[39m \u001b[39mself\u001b[39m\u001b[39m.\u001b[39m_circuit_ids\u001b[39m.\u001b[39mget(key)\n\u001b[0;32m    138\u001b[0m     \u001b[39mif\u001b[39;00m index \u001b[39mis\u001b[39;00m \u001b[39mnot\u001b[39;00m \u001b[39mNone\u001b[39;00m:\n",
      "File \u001b[1;32m~\\AppData\\Local\\Packages\\PythonSoftwareFoundation.Python.3.11_qbz5n2kfra8p0\\LocalCache\\local-packages\\Python311\\site-packages\\qiskit\\primitives\\utils.py:164\u001b[0m, in \u001b[0;36m_circuit_key\u001b[1;34m(circuit, functional)\u001b[0m\n\u001b[0;32m    147\u001b[0m \u001b[39mdef\u001b[39;00m \u001b[39m_circuit_key\u001b[39m(circuit: QuantumCircuit, functional: \u001b[39mbool\u001b[39m \u001b[39m=\u001b[39m \u001b[39mTrue\u001b[39;00m) \u001b[39m-\u001b[39m\u001b[39m>\u001b[39m \u001b[39mtuple\u001b[39m:\n\u001b[0;32m    148\u001b[0m \u001b[39m    \u001b[39m\u001b[39m\"\"\"Private key function for QuantumCircuit.\u001b[39;00m\n\u001b[0;32m    149\u001b[0m \n\u001b[0;32m    150\u001b[0m \u001b[39m    This is the workaround until :meth:`QuantumCircuit.__hash__` will be introduced.\u001b[39;00m\n\u001b[1;32m   (...)\u001b[0m\n\u001b[0;32m    158\u001b[0m \u001b[39m        Composite key for circuit.\u001b[39;00m\n\u001b[0;32m    159\u001b[0m \u001b[39m    \"\"\"\u001b[39;00m\n\u001b[0;32m    160\u001b[0m     functional_key: \u001b[39mtuple\u001b[39m \u001b[39m=\u001b[39m (\n\u001b[0;32m    161\u001b[0m         circuit\u001b[39m.\u001b[39mnum_qubits,\n\u001b[0;32m    162\u001b[0m         circuit\u001b[39m.\u001b[39mnum_clbits,\n\u001b[0;32m    163\u001b[0m         circuit\u001b[39m.\u001b[39mnum_parameters,\n\u001b[1;32m--> 164\u001b[0m         \u001b[39mtuple\u001b[39m(  \u001b[39m# circuit.data\u001b[39;00m\n\u001b[0;32m    165\u001b[0m             (\n\u001b[0;32m    166\u001b[0m                 _bits_key(data\u001b[39m.\u001b[39mqubits, circuit),  \u001b[39m# qubits\u001b[39;00m\n\u001b[0;32m    167\u001b[0m                 _bits_key(data\u001b[39m.\u001b[39mclbits, circuit),  \u001b[39m# clbits\u001b[39;00m\n\u001b[0;32m    168\u001b[0m                 data\u001b[39m.\u001b[39moperation\u001b[39m.\u001b[39mname,  \u001b[39m# operation.name\u001b[39;00m\n\u001b[0;32m    169\u001b[0m                 \u001b[39mtuple\u001b[39m(_format_params(param) \u001b[39mfor\u001b[39;00m param \u001b[39min\u001b[39;00m data\u001b[39m.\u001b[39moperation\u001b[39m.\u001b[39mparams),  \u001b[39m# operation.params\u001b[39;00m\n\u001b[0;32m    170\u001b[0m             )\n\u001b[0;32m    171\u001b[0m             \u001b[39mfor\u001b[39;00m data \u001b[39min\u001b[39;00m circuit\u001b[39m.\u001b[39mdata\n\u001b[0;32m    172\u001b[0m         ),\n\u001b[0;32m    173\u001b[0m         \u001b[39mNone\u001b[39;00m \u001b[39mif\u001b[39;00m circuit\u001b[39m.\u001b[39m_op_start_times \u001b[39mis\u001b[39;00m \u001b[39mNone\u001b[39;00m \u001b[39melse\u001b[39;00m \u001b[39mtuple\u001b[39m(circuit\u001b[39m.\u001b[39m_op_start_times),\n\u001b[0;32m    174\u001b[0m     )\n\u001b[0;32m    175\u001b[0m     \u001b[39mif\u001b[39;00m functional:\n\u001b[0;32m    176\u001b[0m         \u001b[39mreturn\u001b[39;00m functional_key\n",
      "File \u001b[1;32m~\\AppData\\Local\\Packages\\PythonSoftwareFoundation.Python.3.11_qbz5n2kfra8p0\\LocalCache\\local-packages\\Python311\\site-packages\\qiskit\\primitives\\utils.py:169\u001b[0m, in \u001b[0;36m<genexpr>\u001b[1;34m(.0)\u001b[0m\n\u001b[0;32m    147\u001b[0m \u001b[39mdef\u001b[39;00m \u001b[39m_circuit_key\u001b[39m(circuit: QuantumCircuit, functional: \u001b[39mbool\u001b[39m \u001b[39m=\u001b[39m \u001b[39mTrue\u001b[39;00m) \u001b[39m-\u001b[39m\u001b[39m>\u001b[39m \u001b[39mtuple\u001b[39m:\n\u001b[0;32m    148\u001b[0m \u001b[39m    \u001b[39m\u001b[39m\"\"\"Private key function for QuantumCircuit.\u001b[39;00m\n\u001b[0;32m    149\u001b[0m \n\u001b[0;32m    150\u001b[0m \u001b[39m    This is the workaround until :meth:`QuantumCircuit.__hash__` will be introduced.\u001b[39;00m\n\u001b[1;32m   (...)\u001b[0m\n\u001b[0;32m    158\u001b[0m \u001b[39m        Composite key for circuit.\u001b[39;00m\n\u001b[0;32m    159\u001b[0m \u001b[39m    \"\"\"\u001b[39;00m\n\u001b[0;32m    160\u001b[0m     functional_key: \u001b[39mtuple\u001b[39m \u001b[39m=\u001b[39m (\n\u001b[0;32m    161\u001b[0m         circuit\u001b[39m.\u001b[39mnum_qubits,\n\u001b[0;32m    162\u001b[0m         circuit\u001b[39m.\u001b[39mnum_clbits,\n\u001b[0;32m    163\u001b[0m         circuit\u001b[39m.\u001b[39mnum_parameters,\n\u001b[0;32m    164\u001b[0m         \u001b[39mtuple\u001b[39m(  \u001b[39m# circuit.data\u001b[39;00m\n\u001b[0;32m    165\u001b[0m             (\n\u001b[0;32m    166\u001b[0m                 _bits_key(data\u001b[39m.\u001b[39mqubits, circuit),  \u001b[39m# qubits\u001b[39;00m\n\u001b[0;32m    167\u001b[0m                 _bits_key(data\u001b[39m.\u001b[39mclbits, circuit),  \u001b[39m# clbits\u001b[39;00m\n\u001b[0;32m    168\u001b[0m                 data\u001b[39m.\u001b[39moperation\u001b[39m.\u001b[39mname,  \u001b[39m# operation.name\u001b[39;00m\n\u001b[1;32m--> 169\u001b[0m                 \u001b[39mtuple\u001b[39m(_format_params(param) \u001b[39mfor\u001b[39;00m param \u001b[39min\u001b[39;00m data\u001b[39m.\u001b[39moperation\u001b[39m.\u001b[39mparams),  \u001b[39m# operation.params\u001b[39;00m\n\u001b[0;32m    170\u001b[0m             )\n\u001b[0;32m    171\u001b[0m             \u001b[39mfor\u001b[39;00m data \u001b[39min\u001b[39;00m circuit\u001b[39m.\u001b[39mdata\n\u001b[0;32m    172\u001b[0m         ),\n\u001b[0;32m    173\u001b[0m         \u001b[39mNone\u001b[39;00m \u001b[39mif\u001b[39;00m circuit\u001b[39m.\u001b[39m_op_start_times \u001b[39mis\u001b[39;00m \u001b[39mNone\u001b[39;00m \u001b[39melse\u001b[39;00m \u001b[39mtuple\u001b[39m(circuit\u001b[39m.\u001b[39m_op_start_times),\n\u001b[0;32m    174\u001b[0m     )\n\u001b[0;32m    175\u001b[0m     \u001b[39mif\u001b[39;00m functional:\n\u001b[0;32m    176\u001b[0m         \u001b[39mreturn\u001b[39;00m functional_key\n",
      "File \u001b[1;32m~\\AppData\\Local\\Packages\\PythonSoftwareFoundation.Python.3.11_qbz5n2kfra8p0\\LocalCache\\local-packages\\Python311\\site-packages\\qiskit\\primitives\\utils.py:169\u001b[0m, in \u001b[0;36m<genexpr>\u001b[1;34m(.0)\u001b[0m\n\u001b[0;32m    147\u001b[0m \u001b[39mdef\u001b[39;00m \u001b[39m_circuit_key\u001b[39m(circuit: QuantumCircuit, functional: \u001b[39mbool\u001b[39m \u001b[39m=\u001b[39m \u001b[39mTrue\u001b[39;00m) \u001b[39m-\u001b[39m\u001b[39m>\u001b[39m \u001b[39mtuple\u001b[39m:\n\u001b[0;32m    148\u001b[0m \u001b[39m    \u001b[39m\u001b[39m\"\"\"Private key function for QuantumCircuit.\u001b[39;00m\n\u001b[0;32m    149\u001b[0m \n\u001b[0;32m    150\u001b[0m \u001b[39m    This is the workaround until :meth:`QuantumCircuit.__hash__` will be introduced.\u001b[39;00m\n\u001b[1;32m   (...)\u001b[0m\n\u001b[0;32m    158\u001b[0m \u001b[39m        Composite key for circuit.\u001b[39;00m\n\u001b[0;32m    159\u001b[0m \u001b[39m    \"\"\"\u001b[39;00m\n\u001b[0;32m    160\u001b[0m     functional_key: \u001b[39mtuple\u001b[39m \u001b[39m=\u001b[39m (\n\u001b[0;32m    161\u001b[0m         circuit\u001b[39m.\u001b[39mnum_qubits,\n\u001b[0;32m    162\u001b[0m         circuit\u001b[39m.\u001b[39mnum_clbits,\n\u001b[0;32m    163\u001b[0m         circuit\u001b[39m.\u001b[39mnum_parameters,\n\u001b[0;32m    164\u001b[0m         \u001b[39mtuple\u001b[39m(  \u001b[39m# circuit.data\u001b[39;00m\n\u001b[0;32m    165\u001b[0m             (\n\u001b[0;32m    166\u001b[0m                 _bits_key(data\u001b[39m.\u001b[39mqubits, circuit),  \u001b[39m# qubits\u001b[39;00m\n\u001b[0;32m    167\u001b[0m                 _bits_key(data\u001b[39m.\u001b[39mclbits, circuit),  \u001b[39m# clbits\u001b[39;00m\n\u001b[0;32m    168\u001b[0m                 data\u001b[39m.\u001b[39moperation\u001b[39m.\u001b[39mname,  \u001b[39m# operation.name\u001b[39;00m\n\u001b[1;32m--> 169\u001b[0m                 \u001b[39mtuple\u001b[39m(_format_params(param) \u001b[39mfor\u001b[39;00m param \u001b[39min\u001b[39;00m data\u001b[39m.\u001b[39moperation\u001b[39m.\u001b[39mparams),  \u001b[39m# operation.params\u001b[39;00m\n\u001b[0;32m    170\u001b[0m             )\n\u001b[0;32m    171\u001b[0m             \u001b[39mfor\u001b[39;00m data \u001b[39min\u001b[39;00m circuit\u001b[39m.\u001b[39mdata\n\u001b[0;32m    172\u001b[0m         ),\n\u001b[0;32m    173\u001b[0m         \u001b[39mNone\u001b[39;00m \u001b[39mif\u001b[39;00m circuit\u001b[39m.\u001b[39m_op_start_times \u001b[39mis\u001b[39;00m \u001b[39mNone\u001b[39;00m \u001b[39melse\u001b[39;00m \u001b[39mtuple\u001b[39m(circuit\u001b[39m.\u001b[39m_op_start_times),\n\u001b[0;32m    174\u001b[0m     )\n\u001b[0;32m    175\u001b[0m     \u001b[39mif\u001b[39;00m functional:\n\u001b[0;32m    176\u001b[0m         \u001b[39mreturn\u001b[39;00m functional_key\n",
      "\u001b[1;31mKeyboardInterrupt\u001b[0m: "
     ]
    }
   ],
   "source": [
    "objective_func_vals = []\n",
    "\n",
    "start_time = time.time()\n",
    "vqr.fit(train_data,train_labels)\n",
    "elapsed_time = time.time() - start_time\n",
    "\n",
    "print(f'Time spent to fit: {elapsed_time}' )"
   ]
  },
  {
   "cell_type": "code",
   "execution_count": null,
   "metadata": {},
   "outputs": [],
   "source": [
    "start_time = time.time()\n",
    "predicted_vqr_test_labels = vqr.predict(test_data)\n",
    "elapsed_time = time.time() - start_time\n",
    "print(f'Time spent to predict: {elapsed_time}' )"
   ]
  },
  {
   "cell_type": "code",
   "execution_count": null,
   "metadata": {},
   "outputs": [],
   "source": [
    "start_time = time.time()\n",
    "score = vqr.score(train_data,train_labels)\n",
    "elapsed_time = time.time() - start_time\n",
    "print(f'score : {score} \\ntime to score: {elapsed_time}' )"
   ]
  },
  {
   "cell_type": "code",
   "execution_count": null,
   "metadata": {},
   "outputs": [],
   "source": [
    "from sklearn import metrics\n",
    "\n",
    "print('MAE:', metrics.mean_absolute_error(test_labels, predicted_vqr_test_labels))\n",
    "print('MSE:', metrics.mean_squared_error(test_labels, predicted_vqr_test_labels))\n",
    "print('RMSE:', np.sqrt(metrics.mean_squared_error(test_labels, predicted_vqr_test_labels)))"
   ]
  }
 ],
 "metadata": {
  "kernelspec": {
   "display_name": "Python 3 (ipykernel)",
   "language": "python",
   "name": "python3"
  },
  "language_info": {
   "codemirror_mode": {
    "name": "ipython",
    "version": 3
   },
   "file_extension": ".py",
   "mimetype": "text/x-python",
   "name": "python",
   "nbconvert_exporter": "python",
   "pygments_lexer": "ipython3",
   "version": "3.11.6"
  }
 },
 "nbformat": 4,
 "nbformat_minor": 5
}
